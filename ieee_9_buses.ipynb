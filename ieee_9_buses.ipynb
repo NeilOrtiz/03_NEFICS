{
 "metadata": {
  "language_info": {
   "codemirror_mode": {
    "name": "ipython",
    "version": 3
   },
   "file_extension": ".py",
   "mimetype": "text/x-python",
   "name": "python",
   "nbconvert_exporter": "python",
   "pygments_lexer": "ipython3",
   "version": "3.7.10"
  },
  "orig_nbformat": 2,
  "kernelspec": {
   "name": "python3710jvsc74a57bd00fe3b9c16bed78e348cdf544f198e863d256a0626302d171ddf17fdced27d98a",
   "display_name": "Python 3.7.10 64-bit ('pandapower': conda)"
  },
  "metadata": {
   "interpreter": {
    "hash": "0fe3b9c16bed78e348cdf544f198e863d256a0626302d171ddf17fdced27d98a"
   }
  }
 },
 "nbformat": 4,
 "nbformat_minor": 2,
 "cells": [
  {
   "cell_type": "code",
   "execution_count": 18,
   "metadata": {},
   "outputs": [],
   "source": [
    "import pandapower as pp #import pandapower\n",
    "net = pp.create_empty_network() #create an empty network"
   ]
  },
  {
   "cell_type": "code",
   "execution_count": 19,
   "metadata": {},
   "outputs": [],
   "source": [
    "# Buses\n",
    "bus1 = pp.create_bus(net, name=\"LV Busbar G1\", vn_kv=16.5, type=\"n\")\n",
    "bus2 = pp.create_bus(net, name=\"LV Busbar G2\", vn_kv=18, type=\"n\")\n",
    "bus3 = pp.create_bus(net, name=\"Bus G3\", vn_kv=13.8, type=\"n\")\n",
    "bus4 = pp.create_bus(net, name=\"Main Bus\", vn_kv=230, type=\"b\")\n",
    "bus5 = pp.create_bus(net, name=\"Bus Load 1\", vn_kv=230, type=\"b\")\n",
    "bus6 = pp.create_bus(net, name=\"Bus Load 2\", vn_kv=230, type=\"b\")\n",
    "bus7 = pp.create_bus(net, name=\"HV Busbar G2\", vn_kv=230, type=\"n\")\n",
    "bus8 = pp.create_bus(net, name=\"Bus Load 3\", vn_kv=230, type=\"b\")\n",
    "bus9 = pp.create_bus(net, name=\"HV Busbar G3\", vn_kv=230, type=\"n\")"
   ]
  },
  {
   "cell_type": "code",
   "execution_count": 20,
   "metadata": {},
   "outputs": [
    {
     "output_type": "execute_result",
     "data": {
      "text/plain": [
       "           name  vn_kv type  zone  in_service\n",
       "0  LV Busbar G1   16.5    n  None        True\n",
       "1  LV Busbar G2   18.0    n  None        True\n",
       "2        Bus G3   13.8    n  None        True\n",
       "3      Main Bus  230.0    b  None        True\n",
       "4    Bus Load 1  230.0    b  None        True\n",
       "5    Bus Load 2  230.0    b  None        True\n",
       "6  HV Busbar G2  230.0    n  None        True\n",
       "7    Bus Load 3  230.0    b  None        True\n",
       "8  HV Busbar G3  230.0    n  None        True"
      ],
      "text/html": "<div>\n<style scoped>\n    .dataframe tbody tr th:only-of-type {\n        vertical-align: middle;\n    }\n\n    .dataframe tbody tr th {\n        vertical-align: top;\n    }\n\n    .dataframe thead th {\n        text-align: right;\n    }\n</style>\n<table border=\"1\" class=\"dataframe\">\n  <thead>\n    <tr style=\"text-align: right;\">\n      <th></th>\n      <th>name</th>\n      <th>vn_kv</th>\n      <th>type</th>\n      <th>zone</th>\n      <th>in_service</th>\n    </tr>\n  </thead>\n  <tbody>\n    <tr>\n      <th>0</th>\n      <td>LV Busbar G1</td>\n      <td>16.5</td>\n      <td>n</td>\n      <td>None</td>\n      <td>True</td>\n    </tr>\n    <tr>\n      <th>1</th>\n      <td>LV Busbar G2</td>\n      <td>18.0</td>\n      <td>n</td>\n      <td>None</td>\n      <td>True</td>\n    </tr>\n    <tr>\n      <th>2</th>\n      <td>Bus G3</td>\n      <td>13.8</td>\n      <td>n</td>\n      <td>None</td>\n      <td>True</td>\n    </tr>\n    <tr>\n      <th>3</th>\n      <td>Main Bus</td>\n      <td>230.0</td>\n      <td>b</td>\n      <td>None</td>\n      <td>True</td>\n    </tr>\n    <tr>\n      <th>4</th>\n      <td>Bus Load 1</td>\n      <td>230.0</td>\n      <td>b</td>\n      <td>None</td>\n      <td>True</td>\n    </tr>\n    <tr>\n      <th>5</th>\n      <td>Bus Load 2</td>\n      <td>230.0</td>\n      <td>b</td>\n      <td>None</td>\n      <td>True</td>\n    </tr>\n    <tr>\n      <th>6</th>\n      <td>HV Busbar G2</td>\n      <td>230.0</td>\n      <td>n</td>\n      <td>None</td>\n      <td>True</td>\n    </tr>\n    <tr>\n      <th>7</th>\n      <td>Bus Load 3</td>\n      <td>230.0</td>\n      <td>b</td>\n      <td>None</td>\n      <td>True</td>\n    </tr>\n    <tr>\n      <th>8</th>\n      <td>HV Busbar G3</td>\n      <td>230.0</td>\n      <td>n</td>\n      <td>None</td>\n      <td>True</td>\n    </tr>\n  </tbody>\n</table>\n</div>"
     },
     "metadata": {},
     "execution_count": 20
    }
   ],
   "source": [
    "net.bus"
   ]
  },
  {
   "cell_type": "code",
   "execution_count": 21,
   "metadata": {},
   "outputs": [],
   "source": [
    "# Trafos\n",
    "trafo1 = pp.create_transformer(net, bus1, bus4, name=\"T1\", std_type=\"100 MVA 220/110 kV\")\n",
    "trafo2 = pp.create_transformer(net, bus3, bus4, name=\"T2\", std_type=\"100 MVA 220/110 kV\")\n",
    "trafo2 = pp.create_transformer(net, bus3, bus4, name=\"T3\", std_type=\"100 MVA 220/110 kV\")"
   ]
  },
  {
   "cell_type": "code",
   "execution_count": 22,
   "metadata": {},
   "outputs": [
    {
     "output_type": "execute_result",
     "data": {
      "text/plain": [
       "2"
      ]
     },
     "metadata": {},
     "execution_count": 22
    }
   ],
   "source": [
    " # Load\n",
    " pp.create_load(net, bus5, p_mw=125, q_mvar=50, scaling=0.6, name=\"load1\")\n",
    " pp.create_load(net, bus6, p_mw=90, q_mvar=30, scaling=0.6, name=\"load2\")\n",
    " pp.create_load(net, bus8, p_mw=100, q_mvar=35, scaling=0.6, name=\"load3\")"
   ]
  },
  {
   "cell_type": "code",
   "execution_count": 23,
   "metadata": {},
   "outputs": [
    {
     "output_type": "execute_result",
     "data": {
      "text/plain": [
       "2"
      ]
     },
     "metadata": {},
     "execution_count": 23
    }
   ],
   "source": [
    "# Generator\n",
    "pp.create_gen(net, bus1, p_mw=100, max_q_mvar=50, min_q_mvar=-3, vm_pu=1.03, name=\"generator1\", slack=True) \n",
    "pp.create_gen(net, bus2, p_mw=150, max_q_mvar=30, min_q_mvar=-3, vm_pu=1.03, name=\"generator2\") \n",
    "pp.create_gen(net, bus3, p_mw=90, max_q_mvar=35, min_q_mvar=-3, vm_pu=1.03, name=\"generator3\") "
   ]
  },
  {
   "cell_type": "code",
   "execution_count": 24,
   "metadata": {},
   "outputs": [
    {
     "output_type": "error",
     "ename": "LoadflowNotConverged",
     "evalue": "Power Flow nr did not converge after 10 iterations!",
     "traceback": [
      "\u001b[0;31m---------------------------------------------------------------------------\u001b[0m",
      "\u001b[0;31mLoadflowNotConverged\u001b[0m                      Traceback (most recent call last)",
      "\u001b[0;32m<ipython-input-24-540610c75c8b>\u001b[0m in \u001b[0;36m<module>\u001b[0;34m\u001b[0m\n\u001b[1;32m      1\u001b[0m \u001b[0;31m#Power Flow\u001b[0m\u001b[0;34m\u001b[0m\u001b[0;34m\u001b[0m\u001b[0;34m\u001b[0m\u001b[0m\n\u001b[0;32m----> 2\u001b[0;31m \u001b[0mpp\u001b[0m\u001b[0;34m.\u001b[0m\u001b[0mrunpp\u001b[0m\u001b[0;34m(\u001b[0m\u001b[0mnet\u001b[0m\u001b[0;34m)\u001b[0m\u001b[0;34m\u001b[0m\u001b[0;34m\u001b[0m\u001b[0m\n\u001b[0m",
      "\u001b[0;32m~/anaconda3/envs/pandapower/lib/python3.7/site-packages/pandapower/run.py\u001b[0m in \u001b[0;36mrunpp\u001b[0;34m(net, algorithm, calculate_voltage_angles, init, max_iteration, tolerance_mva, trafo_model, trafo_loading, enforce_q_lims, check_connectivity, voltage_depend_loads, consider_line_temperature, run_control, **kwargs)\u001b[0m\n\u001b[1;32m    223\u001b[0m         \u001b[0m_check_bus_index_and_print_warning_if_high\u001b[0m\u001b[0;34m(\u001b[0m\u001b[0mnet\u001b[0m\u001b[0;34m)\u001b[0m\u001b[0;34m\u001b[0m\u001b[0;34m\u001b[0m\u001b[0m\n\u001b[1;32m    224\u001b[0m         \u001b[0m_check_gen_index_and_print_warning_if_high\u001b[0m\u001b[0;34m(\u001b[0m\u001b[0mnet\u001b[0m\u001b[0;34m)\u001b[0m\u001b[0;34m\u001b[0m\u001b[0;34m\u001b[0m\u001b[0m\n\u001b[0;32m--> 225\u001b[0;31m         \u001b[0m_powerflow\u001b[0m\u001b[0;34m(\u001b[0m\u001b[0mnet\u001b[0m\u001b[0;34m,\u001b[0m \u001b[0;34m**\u001b[0m\u001b[0mkwargs\u001b[0m\u001b[0;34m)\u001b[0m\u001b[0;34m\u001b[0m\u001b[0;34m\u001b[0m\u001b[0m\n\u001b[0m\u001b[1;32m    226\u001b[0m \u001b[0;34m\u001b[0m\u001b[0m\n\u001b[1;32m    227\u001b[0m \u001b[0;34m\u001b[0m\u001b[0m\n",
      "\u001b[0;32m~/anaconda3/envs/pandapower/lib/python3.7/site-packages/pandapower/powerflow.py\u001b[0m in \u001b[0;36m_powerflow\u001b[0;34m(net, **kwargs)\u001b[0m\n\u001b[1;32m     75\u001b[0m     \u001b[0mresult\u001b[0m \u001b[0;34m=\u001b[0m \u001b[0m_run_pf_algorithm\u001b[0m\u001b[0;34m(\u001b[0m\u001b[0mppci\u001b[0m\u001b[0;34m,\u001b[0m \u001b[0mnet\u001b[0m\u001b[0;34m[\u001b[0m\u001b[0;34m\"_options\"\u001b[0m\u001b[0;34m]\u001b[0m\u001b[0;34m,\u001b[0m \u001b[0;34m**\u001b[0m\u001b[0mkwargs\u001b[0m\u001b[0;34m)\u001b[0m\u001b[0;34m\u001b[0m\u001b[0;34m\u001b[0m\u001b[0m\n\u001b[1;32m     76\u001b[0m     \u001b[0;31m# read the results (=ppci with results) to net\u001b[0m\u001b[0;34m\u001b[0m\u001b[0;34m\u001b[0m\u001b[0;34m\u001b[0m\u001b[0m\n\u001b[0;32m---> 77\u001b[0;31m     \u001b[0m_ppci_to_net\u001b[0m\u001b[0;34m(\u001b[0m\u001b[0mresult\u001b[0m\u001b[0;34m,\u001b[0m \u001b[0mnet\u001b[0m\u001b[0;34m)\u001b[0m\u001b[0;34m\u001b[0m\u001b[0;34m\u001b[0m\u001b[0m\n\u001b[0m\u001b[1;32m     78\u001b[0m \u001b[0;34m\u001b[0m\u001b[0m\n\u001b[1;32m     79\u001b[0m \u001b[0;34m\u001b[0m\u001b[0m\n",
      "\u001b[0;32m~/anaconda3/envs/pandapower/lib/python3.7/site-packages/pandapower/powerflow.py\u001b[0m in \u001b[0;36m_ppci_to_net\u001b[0;34m(result, net)\u001b[0m\n\u001b[1;32m    176\u001b[0m         \u001b[0mmax_iteration\u001b[0m \u001b[0;34m=\u001b[0m \u001b[0mnet\u001b[0m\u001b[0;34m[\u001b[0m\u001b[0;34m\"_options\"\u001b[0m\u001b[0;34m]\u001b[0m\u001b[0;34m[\u001b[0m\u001b[0;34m\"max_iteration\"\u001b[0m\u001b[0;34m]\u001b[0m\u001b[0;34m\u001b[0m\u001b[0;34m\u001b[0m\u001b[0m\n\u001b[1;32m    177\u001b[0m         raise LoadflowNotConverged(\"Power Flow {0} did not converge after \"\n\u001b[0;32m--> 178\u001b[0;31m                                    \"{1} iterations!\".format(algorithm, max_iteration))\n\u001b[0m\u001b[1;32m    179\u001b[0m     \u001b[0;32melse\u001b[0m\u001b[0;34m:\u001b[0m\u001b[0;34m\u001b[0m\u001b[0;34m\u001b[0m\u001b[0m\n\u001b[1;32m    180\u001b[0m         \u001b[0mnet\u001b[0m\u001b[0;34m[\u001b[0m\u001b[0;34m\"_ppc\"\u001b[0m\u001b[0;34m]\u001b[0m \u001b[0;34m=\u001b[0m \u001b[0mresult\u001b[0m\u001b[0;34m\u001b[0m\u001b[0;34m\u001b[0m\u001b[0m\n",
      "\u001b[0;31mLoadflowNotConverged\u001b[0m: Power Flow nr did not converge after 10 iterations!"
     ]
    }
   ],
   "source": [
    "#Power Flow\n",
    "pp.runpp(net)"
   ]
  },
  {
   "cell_type": "code",
   "execution_count": null,
   "metadata": {},
   "outputs": [],
   "source": []
  }
 ]
}