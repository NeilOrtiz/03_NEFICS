{
 "cells": [
  {
   "cell_type": "code",
   "execution_count": 17,
   "metadata": {},
   "outputs": [],
   "source": [
    "import pandapower as pp #import pandapower\n",
    "\n",
    "net = pp.create_empty_network() #create an empty network\n"
   ]
  },
  {
   "cell_type": "code",
   "execution_count": 18,
   "metadata": {},
   "outputs": [],
   "source": [
    "# Buses\n",
    "bus1 = pp.create_bus(net, name=\"Bus 1\", vn_kv=110, type=\"n\")\n",
    "bus2 = pp.create_bus(net, name=\"Bus 2\", vn_kv=110, type=\"b\")\n",
    "bus3 = pp.create_bus(net, name=\"Bus 3\", vn_kv=110, type=\"b\")\n",
    "bus4 = pp.create_bus(net, name=\"Bus 4\", vn_kv=20, type=\"b\")\n",
    "bus5 = pp.create_bus(net, name=\"Bus 5\", vn_kv=20, type=\"b\")\n",
    "bus6 = pp.create_bus(net, name=\"Bus 6\", vn_kv=20, type=\"b\")\n",
    "bus7 = pp.create_bus(net, name=\"Bus 7\", vn_kv=20, type=\"n\")\n",
    "bus8 = pp.create_bus(net, name=\"Bus 8\", vn_kv=20, type=\"n\")\n",
    "bus9 = pp.create_bus(net, name=\"Bus 9\", vn_kv=20, type=\"n\")\n",
    "bus10 = pp.create_bus(net, name=\"Bus 10\", vn_kv=20, type=\"b\")\n"
   ]
  },
  {
   "cell_type": "code",
   "execution_count": 19,
   "metadata": {},
   "outputs": [
    {
     "output_type": "execute_result",
     "data": {
      "text/plain": [
       "     name  vn_kv type  zone  in_service\n",
       "0   Bus 1  110.0    n  None        True\n",
       "1   Bus 2  110.0    b  None        True\n",
       "2   Bus 3  110.0    b  None        True\n",
       "3   Bus 4   20.0    b  None        True\n",
       "4   Bus 5   20.0    b  None        True\n",
       "5   Bus 6   20.0    b  None        True\n",
       "6   Bus 7   20.0    n  None        True\n",
       "7   Bus 8   20.0    n  None        True\n",
       "8   Bus 9   20.0    n  None        True\n",
       "9  Bus 10   20.0    b  None        True"
      ],
      "text/html": "<div>\n<style scoped>\n    .dataframe tbody tr th:only-of-type {\n        vertical-align: middle;\n    }\n\n    .dataframe tbody tr th {\n        vertical-align: top;\n    }\n\n    .dataframe thead th {\n        text-align: right;\n    }\n</style>\n<table border=\"1\" class=\"dataframe\">\n  <thead>\n    <tr style=\"text-align: right;\">\n      <th></th>\n      <th>name</th>\n      <th>vn_kv</th>\n      <th>type</th>\n      <th>zone</th>\n      <th>in_service</th>\n    </tr>\n  </thead>\n  <tbody>\n    <tr>\n      <th>0</th>\n      <td>Bus 1</td>\n      <td>110.0</td>\n      <td>n</td>\n      <td>None</td>\n      <td>True</td>\n    </tr>\n    <tr>\n      <th>1</th>\n      <td>Bus 2</td>\n      <td>110.0</td>\n      <td>b</td>\n      <td>None</td>\n      <td>True</td>\n    </tr>\n    <tr>\n      <th>2</th>\n      <td>Bus 3</td>\n      <td>110.0</td>\n      <td>b</td>\n      <td>None</td>\n      <td>True</td>\n    </tr>\n    <tr>\n      <th>3</th>\n      <td>Bus 4</td>\n      <td>20.0</td>\n      <td>b</td>\n      <td>None</td>\n      <td>True</td>\n    </tr>\n    <tr>\n      <th>4</th>\n      <td>Bus 5</td>\n      <td>20.0</td>\n      <td>b</td>\n      <td>None</td>\n      <td>True</td>\n    </tr>\n    <tr>\n      <th>5</th>\n      <td>Bus 6</td>\n      <td>20.0</td>\n      <td>b</td>\n      <td>None</td>\n      <td>True</td>\n    </tr>\n    <tr>\n      <th>6</th>\n      <td>Bus 7</td>\n      <td>20.0</td>\n      <td>n</td>\n      <td>None</td>\n      <td>True</td>\n    </tr>\n    <tr>\n      <th>7</th>\n      <td>Bus 8</td>\n      <td>20.0</td>\n      <td>n</td>\n      <td>None</td>\n      <td>True</td>\n    </tr>\n    <tr>\n      <th>8</th>\n      <td>Bus 9</td>\n      <td>20.0</td>\n      <td>n</td>\n      <td>None</td>\n      <td>True</td>\n    </tr>\n    <tr>\n      <th>9</th>\n      <td>Bus 10</td>\n      <td>20.0</td>\n      <td>b</td>\n      <td>None</td>\n      <td>True</td>\n    </tr>\n  </tbody>\n</table>\n</div>"
     },
     "metadata": {},
     "execution_count": 19
    }
   ],
   "source": [
    "net.bus"
   ]
  },
  {
   "cell_type": "code",
   "execution_count": 20,
   "metadata": {},
   "outputs": [],
   "source": [
    "# External Grid\n",
    "# pp.create_ext_grid(net, bus1, vm_pu=1.02, va_degree=50) # Create an external grid connection\n",
    "# pp.create_gen(net, bus1, p_mw=6, max_q_mvar=3, min_q_mvar=-3, vm_pu=1.02, name=\"generator1\", slack=True) "
   ]
  },
  {
   "cell_type": "code",
   "execution_count": 21,
   "metadata": {},
   "outputs": [],
   "source": [
    "# Transformer\n",
    "trafo1 = pp.create_transformer(net, bus3, bus4, name=\"110kV/20kV transformer\", std_type=\"25 MVA 110/20 kV\")"
   ]
  },
  {
   "cell_type": "code",
   "execution_count": 22,
   "metadata": {},
   "outputs": [],
   "source": [
    "# Lines\n",
    "line1 = pp.create_line(net, bus2, bus3, length_km=10, std_type=\"N2XS(FL)2Y 1x300 RM/35 64/110 kV\",  name=\"Line 1\")\n",
    "line2 = pp.create_line(net, bus5, bus6, length_km=2.0, std_type=\"NA2XS2Y 1x240 RM/25 12/20 kV\", name=\"Line 2\")\n",
    "line3 = pp.create_line(net, bus5, bus10, length_km=3.5, std_type=\"48-AL1/8-ST1A 20.0\", name=\"Line 3\")\n",
    "line4 = pp.create_line(net, bus10, bus6, length_km=2.5, std_type=\"NA2XS2Y 1x240 RM/25 12/20 kV\", name=\"Line 4\")\n"
   ]
  },
  {
   "cell_type": "code",
   "execution_count": 23,
   "metadata": {},
   "outputs": [
    {
     "output_type": "execute_result",
     "data": {
      "text/plain": [
       "     name                          std_type  from_bus  to_bus  length_km  \\\n",
       "0  Line 1  N2XS(FL)2Y 1x300 RM/35 64/110 kV         1       2       10.0   \n",
       "1  Line 2      NA2XS2Y 1x240 RM/25 12/20 kV         4       5        2.0   \n",
       "2  Line 3                48-AL1/8-ST1A 20.0         4       9        3.5   \n",
       "3  Line 4      NA2XS2Y 1x240 RM/25 12/20 kV         9       5        2.5   \n",
       "\n",
       "   r_ohm_per_km  x_ohm_per_km  c_nf_per_km  g_us_per_km  max_i_ka   df  \\\n",
       "0        0.0600         0.144        144.0          0.0     0.588  1.0   \n",
       "1        0.1220         0.112        304.0          0.0     0.421  1.0   \n",
       "2        0.5939         0.372          9.5          0.0     0.210  1.0   \n",
       "3        0.1220         0.112        304.0          0.0     0.421  1.0   \n",
       "\n",
       "   parallel type  in_service  \n",
       "0         1   cs        True  \n",
       "1         1   cs        True  \n",
       "2         1   ol        True  \n",
       "3         1   cs        True  "
      ],
      "text/html": "<div>\n<style scoped>\n    .dataframe tbody tr th:only-of-type {\n        vertical-align: middle;\n    }\n\n    .dataframe tbody tr th {\n        vertical-align: top;\n    }\n\n    .dataframe thead th {\n        text-align: right;\n    }\n</style>\n<table border=\"1\" class=\"dataframe\">\n  <thead>\n    <tr style=\"text-align: right;\">\n      <th></th>\n      <th>name</th>\n      <th>std_type</th>\n      <th>from_bus</th>\n      <th>to_bus</th>\n      <th>length_km</th>\n      <th>r_ohm_per_km</th>\n      <th>x_ohm_per_km</th>\n      <th>c_nf_per_km</th>\n      <th>g_us_per_km</th>\n      <th>max_i_ka</th>\n      <th>df</th>\n      <th>parallel</th>\n      <th>type</th>\n      <th>in_service</th>\n    </tr>\n  </thead>\n  <tbody>\n    <tr>\n      <th>0</th>\n      <td>Line 1</td>\n      <td>N2XS(FL)2Y 1x300 RM/35 64/110 kV</td>\n      <td>1</td>\n      <td>2</td>\n      <td>10.0</td>\n      <td>0.0600</td>\n      <td>0.144</td>\n      <td>144.0</td>\n      <td>0.0</td>\n      <td>0.588</td>\n      <td>1.0</td>\n      <td>1</td>\n      <td>cs</td>\n      <td>True</td>\n    </tr>\n    <tr>\n      <th>1</th>\n      <td>Line 2</td>\n      <td>NA2XS2Y 1x240 RM/25 12/20 kV</td>\n      <td>4</td>\n      <td>5</td>\n      <td>2.0</td>\n      <td>0.1220</td>\n      <td>0.112</td>\n      <td>304.0</td>\n      <td>0.0</td>\n      <td>0.421</td>\n      <td>1.0</td>\n      <td>1</td>\n      <td>cs</td>\n      <td>True</td>\n    </tr>\n    <tr>\n      <th>2</th>\n      <td>Line 3</td>\n      <td>48-AL1/8-ST1A 20.0</td>\n      <td>4</td>\n      <td>9</td>\n      <td>3.5</td>\n      <td>0.5939</td>\n      <td>0.372</td>\n      <td>9.5</td>\n      <td>0.0</td>\n      <td>0.210</td>\n      <td>1.0</td>\n      <td>1</td>\n      <td>ol</td>\n      <td>True</td>\n    </tr>\n    <tr>\n      <th>3</th>\n      <td>Line 4</td>\n      <td>NA2XS2Y 1x240 RM/25 12/20 kV</td>\n      <td>9</td>\n      <td>5</td>\n      <td>2.5</td>\n      <td>0.1220</td>\n      <td>0.112</td>\n      <td>304.0</td>\n      <td>0.0</td>\n      <td>0.421</td>\n      <td>1.0</td>\n      <td>1</td>\n      <td>cs</td>\n      <td>True</td>\n    </tr>\n  </tbody>\n</table>\n</div>"
     },
     "metadata": {},
     "execution_count": 23
    }
   ],
   "source": [
    "net.line"
   ]
  },
  {
   "cell_type": "code",
   "execution_count": 24,
   "metadata": {},
   "outputs": [
    {
     "output_type": "execute_result",
     "data": {
      "text/plain": [
       "2"
      ]
     },
     "metadata": {},
     "execution_count": 24
    }
   ],
   "source": [
    "# Voltage controlled Generator\n",
    "pp.create_gen(net, bus1, p_mw=6, max_q_mvar=3, min_q_mvar=-3, vm_pu=1.03, name=\"G1\",slack=True)\n",
    "pp.create_gen(net, bus7, p_mw=6, max_q_mvar=3, min_q_mvar=-3, vm_pu=1.03, name=\"G2\")  \n",
    "pp.create_gen(net, bus8, p_mw=6, max_q_mvar=3, min_q_mvar=-3, vm_pu=1.03, name=\"G3\") "
   ]
  },
  {
   "cell_type": "code",
   "execution_count": 25,
   "metadata": {},
   "outputs": [
    {
     "output_type": "execute_result",
     "data": {
      "text/plain": [
       "  name  bus  p_mw  vm_pu  sn_mva  min_q_mvar  max_q_mvar  scaling  slack  \\\n",
       "0   G1    0   6.0   1.03     NaN        -3.0         3.0      1.0   True   \n",
       "1   G2    6   6.0   1.03     NaN        -3.0         3.0      1.0  False   \n",
       "2   G3    7   6.0   1.03     NaN        -3.0         3.0      1.0  False   \n",
       "\n",
       "   in_service  type  \n",
       "0        True  None  \n",
       "1        True  None  \n",
       "2        True  None  "
      ],
      "text/html": "<div>\n<style scoped>\n    .dataframe tbody tr th:only-of-type {\n        vertical-align: middle;\n    }\n\n    .dataframe tbody tr th {\n        vertical-align: top;\n    }\n\n    .dataframe thead th {\n        text-align: right;\n    }\n</style>\n<table border=\"1\" class=\"dataframe\">\n  <thead>\n    <tr style=\"text-align: right;\">\n      <th></th>\n      <th>name</th>\n      <th>bus</th>\n      <th>p_mw</th>\n      <th>vm_pu</th>\n      <th>sn_mva</th>\n      <th>min_q_mvar</th>\n      <th>max_q_mvar</th>\n      <th>scaling</th>\n      <th>slack</th>\n      <th>in_service</th>\n      <th>type</th>\n    </tr>\n  </thead>\n  <tbody>\n    <tr>\n      <th>0</th>\n      <td>G1</td>\n      <td>0</td>\n      <td>6.0</td>\n      <td>1.03</td>\n      <td>NaN</td>\n      <td>-3.0</td>\n      <td>3.0</td>\n      <td>1.0</td>\n      <td>True</td>\n      <td>True</td>\n      <td>None</td>\n    </tr>\n    <tr>\n      <th>1</th>\n      <td>G2</td>\n      <td>6</td>\n      <td>6.0</td>\n      <td>1.03</td>\n      <td>NaN</td>\n      <td>-3.0</td>\n      <td>3.0</td>\n      <td>1.0</td>\n      <td>False</td>\n      <td>True</td>\n      <td>None</td>\n    </tr>\n    <tr>\n      <th>2</th>\n      <td>G3</td>\n      <td>7</td>\n      <td>6.0</td>\n      <td>1.03</td>\n      <td>NaN</td>\n      <td>-3.0</td>\n      <td>3.0</td>\n      <td>1.0</td>\n      <td>False</td>\n      <td>True</td>\n      <td>None</td>\n    </tr>\n  </tbody>\n</table>\n</div>"
     },
     "metadata": {},
     "execution_count": 25
    }
   ],
   "source": [
    "net.gen"
   ]
  },
  {
   "cell_type": "code",
   "execution_count": 26,
   "metadata": {},
   "outputs": [],
   "source": [
    "# Switches\n",
    "sw1 = pp.create_switch(net, bus1, bus2, et=\"b\", type=\"CB\", closed=True)\n",
    "sw2 = pp.create_switch(net, bus2, line1, et=\"l\", type=\"LBS\", closed=True)\n",
    "sw3 = pp.create_switch(net, bus3, line1,et=\"l\", type=\"LBS\", closed=True)\n",
    "sw4 = pp.create_switch(net, bus4, bus5, et=\"b\", type=\"CB\", closed=True)\n",
    "sw5 = pp.create_switch(net, bus5, line2, et=\"l\", type=\"LBS\", closed=True)\n",
    "sw6 = pp.create_switch(net, bus5, line3, et=\"l\", type=\"LBS\", closed=True)\n",
    "sw7 = pp.create_switch(net, bus6, line2, et=\"l\", type=\"LBS\", closed=True)\n",
    "sw8 = pp.create_switch(net, bus6, bus7, et=\"b\", type=\"CB\", closed=True)\n",
    "sw9 = pp.create_switch(net, bus6, line4, et=\"l\", type=\"LBS\", closed=True)\n",
    "sw10 = pp.create_switch(net,bus10, line4, et=\"l\", type=\"LBS\", closed=True)\n",
    "sw11 = pp.create_switch(net, bus10, bus8, et=\"b\", type=\"CB\", closed=True)\n",
    "sw12 = pp.create_switch(net, bus10, line3, et=\"l\", type=\"LBS\", closed=True)\n",
    "sw13 = pp.create_switch(net, bus10, bus9, et=\"b\", type=\"CB\", closed=True)"
   ]
  },
  {
   "cell_type": "code",
   "execution_count": 27,
   "metadata": {},
   "outputs": [
    {
     "output_type": "execute_result",
     "data": {
      "text/plain": [
       "0"
      ]
     },
     "metadata": {},
     "execution_count": 27
    }
   ],
   "source": [
    "# Load\n",
    "pp.create_load(net, bus9, p_mw=2, q_mvar=4, scaling=0.6, name=\"load\")"
   ]
  },
  {
   "cell_type": "code",
   "execution_count": 28,
   "metadata": {},
   "outputs": [],
   "source": [
    "# Static Generator\n",
    "# pp.create_sgen(net, bus7, p_mw=2, q_mvar=-0.5, name=\"static generator\")\n"
   ]
  },
  {
   "cell_type": "code",
   "execution_count": 29,
   "metadata": {},
   "outputs": [],
   "source": [
    "# Shunt\n",
    "# pp.create_shunt(net, bus3, q_mvar=-0.96, p_mw=0, name='Shunt')"
   ]
  },
  {
   "cell_type": "code",
   "execution_count": 30,
   "metadata": {},
   "outputs": [],
   "source": [
    "# Power Flow\n",
    "pp.runpp(net)"
   ]
  },
  {
   "cell_type": "code",
   "execution_count": 31,
   "metadata": {},
   "outputs": [],
   "source": [
    "# RESULTS"
   ]
  },
  {
   "cell_type": "code",
   "execution_count": 32,
   "metadata": {},
   "outputs": [
    {
     "output_type": "execute_result",
     "data": {
      "text/plain": [
       "      vm_pu  va_degree       p_mw    q_mvar\n",
       "0  1.030000   0.000000  10.680309  3.911803\n",
       "1  1.030000   0.000000   0.000000  0.000000\n",
       "2  1.030631   0.065905   0.000000  0.000000\n",
       "3  1.024803   2.866511   0.000000  0.000000\n",
       "4  1.024803   2.866511   0.000000  0.000000\n",
       "5  1.030000   3.157745   0.000000  0.000000\n",
       "6  1.030000   3.157745  -6.000000 -2.972426\n",
       "7  1.030000   3.419281  -6.000000  2.031835\n",
       "8  1.030000   3.419281   1.200000  2.400000\n",
       "9  1.030000   3.419281   0.000000  0.000000"
      ],
      "text/html": "<div>\n<style scoped>\n    .dataframe tbody tr th:only-of-type {\n        vertical-align: middle;\n    }\n\n    .dataframe tbody tr th {\n        vertical-align: top;\n    }\n\n    .dataframe thead th {\n        text-align: right;\n    }\n</style>\n<table border=\"1\" class=\"dataframe\">\n  <thead>\n    <tr style=\"text-align: right;\">\n      <th></th>\n      <th>vm_pu</th>\n      <th>va_degree</th>\n      <th>p_mw</th>\n      <th>q_mvar</th>\n    </tr>\n  </thead>\n  <tbody>\n    <tr>\n      <th>0</th>\n      <td>1.030000</td>\n      <td>0.000000</td>\n      <td>10.680309</td>\n      <td>3.911803</td>\n    </tr>\n    <tr>\n      <th>1</th>\n      <td>1.030000</td>\n      <td>0.000000</td>\n      <td>0.000000</td>\n      <td>0.000000</td>\n    </tr>\n    <tr>\n      <th>2</th>\n      <td>1.030631</td>\n      <td>0.065905</td>\n      <td>0.000000</td>\n      <td>0.000000</td>\n    </tr>\n    <tr>\n      <th>3</th>\n      <td>1.024803</td>\n      <td>2.866511</td>\n      <td>0.000000</td>\n      <td>0.000000</td>\n    </tr>\n    <tr>\n      <th>4</th>\n      <td>1.024803</td>\n      <td>2.866511</td>\n      <td>0.000000</td>\n      <td>0.000000</td>\n    </tr>\n    <tr>\n      <th>5</th>\n      <td>1.030000</td>\n      <td>3.157745</td>\n      <td>0.000000</td>\n      <td>0.000000</td>\n    </tr>\n    <tr>\n      <th>6</th>\n      <td>1.030000</td>\n      <td>3.157745</td>\n      <td>-6.000000</td>\n      <td>-2.972426</td>\n    </tr>\n    <tr>\n      <th>7</th>\n      <td>1.030000</td>\n      <td>3.419281</td>\n      <td>-6.000000</td>\n      <td>2.031835</td>\n    </tr>\n    <tr>\n      <th>8</th>\n      <td>1.030000</td>\n      <td>3.419281</td>\n      <td>1.200000</td>\n      <td>2.400000</td>\n    </tr>\n    <tr>\n      <th>9</th>\n      <td>1.030000</td>\n      <td>3.419281</td>\n      <td>0.000000</td>\n      <td>0.000000</td>\n    </tr>\n  </tbody>\n</table>\n</div>"
     },
     "metadata": {},
     "execution_count": 32
    }
   ],
   "source": [
    "# Buses\n",
    "net.res_bus"
   ]
  },
  {
   "cell_type": "code",
   "execution_count": 33,
   "metadata": {},
   "outputs": [
    {
     "output_type": "execute_result",
     "data": {
      "text/plain": [
       "Empty DataFrame\n",
       "Columns: [p_mw, q_mvar]\n",
       "Index: []"
      ],
      "text/html": "<div>\n<style scoped>\n    .dataframe tbody tr th:only-of-type {\n        vertical-align: middle;\n    }\n\n    .dataframe tbody tr th {\n        vertical-align: top;\n    }\n\n    .dataframe thead th {\n        text-align: right;\n    }\n</style>\n<table border=\"1\" class=\"dataframe\">\n  <thead>\n    <tr style=\"text-align: right;\">\n      <th></th>\n      <th>p_mw</th>\n      <th>q_mvar</th>\n    </tr>\n  </thead>\n  <tbody>\n  </tbody>\n</table>\n</div>"
     },
     "metadata": {},
     "execution_count": 33
    }
   ],
   "source": [
    "# External grid\n",
    "net.res_ext_grid"
   ]
  },
  {
   "cell_type": "code",
   "execution_count": 34,
   "metadata": {},
   "outputs": [
    {
     "output_type": "execute_result",
     "data": {
      "text/plain": [
       "   p_from_mw  q_from_mvar    p_to_mw  q_to_mvar     pl_mw   ql_mvar  \\\n",
       "0 -10.680309    -3.911803  10.685688  -1.886120  0.005379 -5.797923   \n",
       "1  -9.107770     0.394237   9.156060  -0.430554  0.048290 -0.036316   \n",
       "2  -1.610897     0.948409   1.628208  -0.941976  0.017312  0.006433   \n",
       "3   3.171792    -3.489858  -3.156060   3.402980  0.015732 -0.086878   \n",
       "\n",
       "   i_from_ka   i_to_ka      i_ka  vm_from_pu  va_from_degree  vm_to_pu  \\\n",
       "0   0.057960  0.055260  0.057960    1.030000        0.000000  1.030631   \n",
       "1   0.256796  0.256898  0.256898    1.024803        2.866511  1.030000   \n",
       "2   0.052657  0.052720  0.052720    1.024803        2.866511  1.030000   \n",
       "3   0.132170  0.130078  0.132170    1.030000        3.419281  1.030000   \n",
       "\n",
       "   va_to_degree  loading_percent  \n",
       "0      0.065905         9.857140  \n",
       "1      3.157745        61.020859  \n",
       "2      3.419281        25.104710  \n",
       "3      3.157745        31.394338  "
      ],
      "text/html": "<div>\n<style scoped>\n    .dataframe tbody tr th:only-of-type {\n        vertical-align: middle;\n    }\n\n    .dataframe tbody tr th {\n        vertical-align: top;\n    }\n\n    .dataframe thead th {\n        text-align: right;\n    }\n</style>\n<table border=\"1\" class=\"dataframe\">\n  <thead>\n    <tr style=\"text-align: right;\">\n      <th></th>\n      <th>p_from_mw</th>\n      <th>q_from_mvar</th>\n      <th>p_to_mw</th>\n      <th>q_to_mvar</th>\n      <th>pl_mw</th>\n      <th>ql_mvar</th>\n      <th>i_from_ka</th>\n      <th>i_to_ka</th>\n      <th>i_ka</th>\n      <th>vm_from_pu</th>\n      <th>va_from_degree</th>\n      <th>vm_to_pu</th>\n      <th>va_to_degree</th>\n      <th>loading_percent</th>\n    </tr>\n  </thead>\n  <tbody>\n    <tr>\n      <th>0</th>\n      <td>-10.680309</td>\n      <td>-3.911803</td>\n      <td>10.685688</td>\n      <td>-1.886120</td>\n      <td>0.005379</td>\n      <td>-5.797923</td>\n      <td>0.057960</td>\n      <td>0.055260</td>\n      <td>0.057960</td>\n      <td>1.030000</td>\n      <td>0.000000</td>\n      <td>1.030631</td>\n      <td>0.065905</td>\n      <td>9.857140</td>\n    </tr>\n    <tr>\n      <th>1</th>\n      <td>-9.107770</td>\n      <td>0.394237</td>\n      <td>9.156060</td>\n      <td>-0.430554</td>\n      <td>0.048290</td>\n      <td>-0.036316</td>\n      <td>0.256796</td>\n      <td>0.256898</td>\n      <td>0.256898</td>\n      <td>1.024803</td>\n      <td>2.866511</td>\n      <td>1.030000</td>\n      <td>3.157745</td>\n      <td>61.020859</td>\n    </tr>\n    <tr>\n      <th>2</th>\n      <td>-1.610897</td>\n      <td>0.948409</td>\n      <td>1.628208</td>\n      <td>-0.941976</td>\n      <td>0.017312</td>\n      <td>0.006433</td>\n      <td>0.052657</td>\n      <td>0.052720</td>\n      <td>0.052720</td>\n      <td>1.024803</td>\n      <td>2.866511</td>\n      <td>1.030000</td>\n      <td>3.419281</td>\n      <td>25.104710</td>\n    </tr>\n    <tr>\n      <th>3</th>\n      <td>3.171792</td>\n      <td>-3.489858</td>\n      <td>-3.156060</td>\n      <td>3.402980</td>\n      <td>0.015732</td>\n      <td>-0.086878</td>\n      <td>0.132170</td>\n      <td>0.130078</td>\n      <td>0.132170</td>\n      <td>1.030000</td>\n      <td>3.419281</td>\n      <td>1.030000</td>\n      <td>3.157745</td>\n      <td>31.394338</td>\n    </tr>\n  </tbody>\n</table>\n</div>"
     },
     "metadata": {},
     "execution_count": 34
    }
   ],
   "source": [
    "# Line\n",
    "net.res_line"
   ]
  },
  {
   "cell_type": "code",
   "execution_count": 35,
   "metadata": {},
   "outputs": [
    {
     "output_type": "execute_result",
     "data": {
      "text/plain": [
       "     p_hv_mw  q_hv_mvar    p_lv_mw  q_lv_mvar     pl_mw   ql_mvar  i_hv_ka  \\\n",
       "0 -10.685688    1.88612  10.718666  -1.342647  0.032978  0.543474  0.05526   \n",
       "\n",
       "    i_lv_ka  vm_hv_pu  va_hv_degree  vm_lv_pu  va_lv_degree  loading_percent  \n",
       "0  0.304292  1.030631      0.065905  1.024803      2.866511         42.16394  "
      ],
      "text/html": "<div>\n<style scoped>\n    .dataframe tbody tr th:only-of-type {\n        vertical-align: middle;\n    }\n\n    .dataframe tbody tr th {\n        vertical-align: top;\n    }\n\n    .dataframe thead th {\n        text-align: right;\n    }\n</style>\n<table border=\"1\" class=\"dataframe\">\n  <thead>\n    <tr style=\"text-align: right;\">\n      <th></th>\n      <th>p_hv_mw</th>\n      <th>q_hv_mvar</th>\n      <th>p_lv_mw</th>\n      <th>q_lv_mvar</th>\n      <th>pl_mw</th>\n      <th>ql_mvar</th>\n      <th>i_hv_ka</th>\n      <th>i_lv_ka</th>\n      <th>vm_hv_pu</th>\n      <th>va_hv_degree</th>\n      <th>vm_lv_pu</th>\n      <th>va_lv_degree</th>\n      <th>loading_percent</th>\n    </tr>\n  </thead>\n  <tbody>\n    <tr>\n      <th>0</th>\n      <td>-10.685688</td>\n      <td>1.88612</td>\n      <td>10.718666</td>\n      <td>-1.342647</td>\n      <td>0.032978</td>\n      <td>0.543474</td>\n      <td>0.05526</td>\n      <td>0.304292</td>\n      <td>1.030631</td>\n      <td>0.065905</td>\n      <td>1.024803</td>\n      <td>2.866511</td>\n      <td>42.16394</td>\n    </tr>\n  </tbody>\n</table>\n</div>"
     },
     "metadata": {},
     "execution_count": 35
    }
   ],
   "source": [
    "# Trafos\n",
    "net.res_trafo"
   ]
  },
  {
   "cell_type": "code",
   "execution_count": 36,
   "metadata": {},
   "outputs": [
    {
     "output_type": "execute_result",
     "data": {
      "text/plain": [
       "   p_mw  q_mvar\n",
       "0   1.2     2.4"
      ],
      "text/html": "<div>\n<style scoped>\n    .dataframe tbody tr th:only-of-type {\n        vertical-align: middle;\n    }\n\n    .dataframe tbody tr th {\n        vertical-align: top;\n    }\n\n    .dataframe thead th {\n        text-align: right;\n    }\n</style>\n<table border=\"1\" class=\"dataframe\">\n  <thead>\n    <tr style=\"text-align: right;\">\n      <th></th>\n      <th>p_mw</th>\n      <th>q_mvar</th>\n    </tr>\n  </thead>\n  <tbody>\n    <tr>\n      <th>0</th>\n      <td>1.2</td>\n      <td>2.4</td>\n    </tr>\n  </tbody>\n</table>\n</div>"
     },
     "metadata": {},
     "execution_count": 36
    }
   ],
   "source": [
    "# Load\n",
    "net.res_load"
   ]
  },
  {
   "cell_type": "code",
   "execution_count": 37,
   "metadata": {},
   "outputs": [
    {
     "output_type": "execute_result",
     "data": {
      "text/plain": [
       "Empty DataFrame\n",
       "Columns: [p_mw, q_mvar]\n",
       "Index: []"
      ],
      "text/html": "<div>\n<style scoped>\n    .dataframe tbody tr th:only-of-type {\n        vertical-align: middle;\n    }\n\n    .dataframe tbody tr th {\n        vertical-align: top;\n    }\n\n    .dataframe thead th {\n        text-align: right;\n    }\n</style>\n<table border=\"1\" class=\"dataframe\">\n  <thead>\n    <tr style=\"text-align: right;\">\n      <th></th>\n      <th>p_mw</th>\n      <th>q_mvar</th>\n    </tr>\n  </thead>\n  <tbody>\n  </tbody>\n</table>\n</div>"
     },
     "metadata": {},
     "execution_count": 37
    }
   ],
   "source": [
    "# Static Generator\n",
    "net.res_sgen"
   ]
  },
  {
   "cell_type": "code",
   "execution_count": 38,
   "metadata": {},
   "outputs": [
    {
     "output_type": "execute_result",
     "data": {
      "text/plain": [
       "        p_mw    q_mvar  va_degree  vm_pu\n",
       "0 -10.680309 -3.911803   0.000000   1.03\n",
       "1   6.000000  2.972426   3.157745   1.03\n",
       "2   6.000000 -2.031835   3.419281   1.03"
      ],
      "text/html": "<div>\n<style scoped>\n    .dataframe tbody tr th:only-of-type {\n        vertical-align: middle;\n    }\n\n    .dataframe tbody tr th {\n        vertical-align: top;\n    }\n\n    .dataframe thead th {\n        text-align: right;\n    }\n</style>\n<table border=\"1\" class=\"dataframe\">\n  <thead>\n    <tr style=\"text-align: right;\">\n      <th></th>\n      <th>p_mw</th>\n      <th>q_mvar</th>\n      <th>va_degree</th>\n      <th>vm_pu</th>\n    </tr>\n  </thead>\n  <tbody>\n    <tr>\n      <th>0</th>\n      <td>-10.680309</td>\n      <td>-3.911803</td>\n      <td>0.000000</td>\n      <td>1.03</td>\n    </tr>\n    <tr>\n      <th>1</th>\n      <td>6.000000</td>\n      <td>2.972426</td>\n      <td>3.157745</td>\n      <td>1.03</td>\n    </tr>\n    <tr>\n      <th>2</th>\n      <td>6.000000</td>\n      <td>-2.031835</td>\n      <td>3.419281</td>\n      <td>1.03</td>\n    </tr>\n  </tbody>\n</table>\n</div>"
     },
     "metadata": {},
     "execution_count": 38
    }
   ],
   "source": [
    "#Generator\n",
    "net.res_gen"
   ]
  },
  {
   "cell_type": "code",
   "execution_count": 39,
   "metadata": {},
   "outputs": [
    {
     "output_type": "execute_result",
     "data": {
      "text/plain": [
       "Empty DataFrame\n",
       "Columns: [p_mw, q_mvar, vm_pu]\n",
       "Index: []"
      ],
      "text/html": "<div>\n<style scoped>\n    .dataframe tbody tr th:only-of-type {\n        vertical-align: middle;\n    }\n\n    .dataframe tbody tr th {\n        vertical-align: top;\n    }\n\n    .dataframe thead th {\n        text-align: right;\n    }\n</style>\n<table border=\"1\" class=\"dataframe\">\n  <thead>\n    <tr style=\"text-align: right;\">\n      <th></th>\n      <th>p_mw</th>\n      <th>q_mvar</th>\n      <th>vm_pu</th>\n    </tr>\n  </thead>\n  <tbody>\n  </tbody>\n</table>\n</div>"
     },
     "metadata": {},
     "execution_count": 39
    }
   ],
   "source": [
    "# Shunt\n",
    "net.res_shunt\n"
   ]
  },
  {
   "cell_type": "code",
   "execution_count": null,
   "metadata": {},
   "outputs": [],
   "source": []
  }
 ],
 "metadata": {
  "kernelspec": {
   "name": "python3710jvsc74a57bd00fe3b9c16bed78e348cdf544f198e863d256a0626302d171ddf17fdced27d98a",
   "display_name": "Python 3.7.10 64-bit ('pandapower': conda)"
  },
  "language_info": {
   "codemirror_mode": {
    "name": "ipython",
    "version": 3
   },
   "file_extension": ".py",
   "mimetype": "text/x-python",
   "name": "python",
   "nbconvert_exporter": "python",
   "pygments_lexer": "ipython3",
   "version": "3.7.10"
  },
  "metadata": {
   "interpreter": {
    "hash": "0fe3b9c16bed78e348cdf544f198e863d256a0626302d171ddf17fdced27d98a"
   }
  }
 },
 "nbformat": 4,
 "nbformat_minor": 4
}