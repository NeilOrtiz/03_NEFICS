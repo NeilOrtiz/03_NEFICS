{
 "cells": [
  {
   "cell_type": "code",
   "execution_count": 8,
   "metadata": {},
   "outputs": [],
   "source": [
    "import pandapower as pp #import pandapower\n",
    "\n",
    "net = pp.create_empty_network() #create an empty network\n"
   ]
  },
  {
   "cell_type": "code",
   "execution_count": 9,
   "metadata": {},
   "outputs": [],
   "source": [
    "# Buses\n",
    "bus1 = pp.create_bus(net, name=\"Bus 1\", vn_kv=110, type=\"n\")\n",
    "bus2 = pp.create_bus(net, name=\"Bus 2\", vn_kv=110, type=\"b\")\n",
    "bus3 = pp.create_bus(net, name=\"Bus 3\", vn_kv=110, type=\"b\")\n",
    "bus4 = pp.create_bus(net, name=\"Bus 4\", vn_kv=20, type=\"b\")\n",
    "bus5 = pp.create_bus(net, name=\"Bus 5\", vn_kv=20, type=\"b\")\n",
    "bus6 = pp.create_bus(net, name=\"Bus 6\", vn_kv=20, type=\"b\")\n",
    "bus7 = pp.create_bus(net, name=\"Bus 7\", vn_kv=20, type=\"n\")\n",
    "bus8 = pp.create_bus(net, name=\"Bus 8\", vn_kv=20, type=\"n\")\n",
    "bus9 = pp.create_bus(net, name=\"Bus 9\", vn_kv=20, type=\"n\")\n",
    "bus10 = pp.create_bus(net, name=\"Bus 10\", vn_kv=20, type=\"b\")\n"
   ]
  },
  {
   "cell_type": "code",
   "execution_count": 10,
   "metadata": {},
   "outputs": [],
   "source": [
    "# External Grid\n",
    "# pp.create_ext_grid(net, bus1, vm_pu=1.02, va_degree=50) # Create an external grid connection\n",
    "# pp.create_gen(net, bus1, p_mw=6, max_q_mvar=3, min_q_mvar=-3, vm_pu=1.02, name=\"generator1\", slack=True) "
   ]
  },
  {
   "cell_type": "code",
   "execution_count": 11,
   "metadata": {},
   "outputs": [],
   "source": [
    "# Transformer\n",
    "trafo1 = pp.create_transformer(net, bus3, bus4, name=\"110kV/20kV transformer\", std_type=\"25 MVA 110/20 kV\")"
   ]
  },
  {
   "cell_type": "code",
   "execution_count": 12,
   "metadata": {},
   "outputs": [],
   "source": [
    "# Lines\n",
    "line1 = pp.create_line(net, bus2, bus3, length_km=10, std_type=\"N2XS(FL)2Y 1x300 RM/35 64/110 kV\",  name=\"Line 1\")\n",
    "line2 = pp.create_line(net, bus5, bus6, length_km=2.0, std_type=\"NA2XS2Y 1x240 RM/25 12/20 kV\", name=\"Line 2\")\n",
    "line3 = pp.create_line(net, bus5, bus10, length_km=3.5, std_type=\"48-AL1/8-ST1A 20.0\", name=\"Line 3\")\n",
    "line4 = pp.create_line(net, bus10, bus6, length_km=2.5, std_type=\"NA2XS2Y 1x240 RM/25 12/20 kV\", name=\"Line 4\")\n"
   ]
  },
  {
   "cell_type": "code",
   "execution_count": 13,
   "metadata": {},
   "outputs": [
    {
     "output_type": "execute_result",
     "data": {
      "text/plain": [
       "2"
      ]
     },
     "metadata": {},
     "execution_count": 13
    }
   ],
   "source": [
    "# Voltage controlled Generator\n",
    "pp.create_gen(net, bus1, p_mw=6, max_q_mvar=3, min_q_mvar=-3, vm_pu=1.03, name=\"G1\",slack=True)\n",
    "pp.create_gen(net, bus7, p_mw=6, max_q_mvar=3, min_q_mvar=-3, vm_pu=1.03, name=\"G2\")  \n",
    "pp.create_gen(net, bus8, p_mw=6, max_q_mvar=3, min_q_mvar=-3, vm_pu=1.03, name=\"G3\") "
   ]
  },
  {
   "cell_type": "code",
   "execution_count": 15,
   "metadata": {},
   "outputs": [
    {
     "output_type": "execute_result",
     "data": {
      "text/plain": [
       "  name  bus  p_mw  vm_pu  sn_mva  min_q_mvar  max_q_mvar  scaling  slack  \\\n",
       "0   G1    0   6.0   1.03     NaN        -3.0         3.0      1.0   True   \n",
       "1   G2    3   6.0   1.03     NaN        -3.0         3.0      1.0  False   \n",
       "2   G3    4   6.0   1.03     NaN        -3.0         3.0      1.0  False   \n",
       "\n",
       "   in_service  type  \n",
       "0        True  None  \n",
       "1        True  None  \n",
       "2        True  None  "
      ],
      "text/html": "<div>\n<style scoped>\n    .dataframe tbody tr th:only-of-type {\n        vertical-align: middle;\n    }\n\n    .dataframe tbody tr th {\n        vertical-align: top;\n    }\n\n    .dataframe thead th {\n        text-align: right;\n    }\n</style>\n<table border=\"1\" class=\"dataframe\">\n  <thead>\n    <tr style=\"text-align: right;\">\n      <th></th>\n      <th>name</th>\n      <th>bus</th>\n      <th>p_mw</th>\n      <th>vm_pu</th>\n      <th>sn_mva</th>\n      <th>min_q_mvar</th>\n      <th>max_q_mvar</th>\n      <th>scaling</th>\n      <th>slack</th>\n      <th>in_service</th>\n      <th>type</th>\n    </tr>\n  </thead>\n  <tbody>\n    <tr>\n      <th>0</th>\n      <td>G1</td>\n      <td>0</td>\n      <td>6.0</td>\n      <td>1.03</td>\n      <td>NaN</td>\n      <td>-3.0</td>\n      <td>3.0</td>\n      <td>1.0</td>\n      <td>True</td>\n      <td>True</td>\n      <td>None</td>\n    </tr>\n    <tr>\n      <th>1</th>\n      <td>G2</td>\n      <td>3</td>\n      <td>6.0</td>\n      <td>1.03</td>\n      <td>NaN</td>\n      <td>-3.0</td>\n      <td>3.0</td>\n      <td>1.0</td>\n      <td>False</td>\n      <td>True</td>\n      <td>None</td>\n    </tr>\n    <tr>\n      <th>2</th>\n      <td>G3</td>\n      <td>4</td>\n      <td>6.0</td>\n      <td>1.03</td>\n      <td>NaN</td>\n      <td>-3.0</td>\n      <td>3.0</td>\n      <td>1.0</td>\n      <td>False</td>\n      <td>True</td>\n      <td>None</td>\n    </tr>\n  </tbody>\n</table>\n</div>"
     },
     "metadata": {},
     "execution_count": 15
    }
   ],
   "source": [
    "net.gen"
   ]
  },
  {
   "cell_type": "code",
   "execution_count": 16,
   "metadata": {},
   "outputs": [
    {
     "output_type": "error",
     "ename": "NameError",
     "evalue": "name 'G1' is not defined",
     "traceback": [
      "\u001b[0;31m---------------------------------------------------------------------------\u001b[0m",
      "\u001b[0;31mNameError\u001b[0m                                 Traceback (most recent call last)",
      "\u001b[0;32m<ipython-input-16-e687d5acc906>\u001b[0m in \u001b[0;36m<module>\u001b[0;34m\u001b[0m\n\u001b[1;32m      1\u001b[0m \u001b[0;31m# Switches\u001b[0m\u001b[0;34m\u001b[0m\u001b[0;34m\u001b[0m\u001b[0;34m\u001b[0m\u001b[0m\n\u001b[0;32m----> 2\u001b[0;31m \u001b[0msw1\u001b[0m \u001b[0;34m=\u001b[0m \u001b[0mpp\u001b[0m\u001b[0;34m.\u001b[0m\u001b[0mcreate_switch\u001b[0m\u001b[0;34m(\u001b[0m\u001b[0mnet\u001b[0m\u001b[0;34m,\u001b[0m \u001b[0mG1\u001b[0m\u001b[0;34m,\u001b[0m \u001b[0mbus1\u001b[0m\u001b[0;34m,\u001b[0m \u001b[0met\u001b[0m\u001b[0;34m=\u001b[0m\u001b[0;34m\"b\"\u001b[0m\u001b[0;34m,\u001b[0m \u001b[0mtype\u001b[0m\u001b[0;34m=\u001b[0m\u001b[0;34m\"CB\"\u001b[0m\u001b[0;34m,\u001b[0m \u001b[0mclosed\u001b[0m\u001b[0;34m=\u001b[0m\u001b[0;32mTrue\u001b[0m\u001b[0;34m)\u001b[0m\u001b[0;34m\u001b[0m\u001b[0;34m\u001b[0m\u001b[0m\n\u001b[0m\u001b[1;32m      3\u001b[0m \u001b[0msw2\u001b[0m \u001b[0;34m=\u001b[0m \u001b[0mpp\u001b[0m\u001b[0;34m.\u001b[0m\u001b[0mcreate_switch\u001b[0m\u001b[0;34m(\u001b[0m\u001b[0mnet\u001b[0m\u001b[0;34m,\u001b[0m \u001b[0mbus1\u001b[0m\u001b[0;34m,\u001b[0m \u001b[0mline1\u001b[0m\u001b[0;34m,\u001b[0m \u001b[0met\u001b[0m\u001b[0;34m=\u001b[0m\u001b[0;34m\"l\"\u001b[0m\u001b[0;34m,\u001b[0m \u001b[0mtype\u001b[0m\u001b[0;34m=\u001b[0m\u001b[0;34m\"CB\"\u001b[0m\u001b[0;34m,\u001b[0m \u001b[0mclosed\u001b[0m\u001b[0;34m=\u001b[0m\u001b[0;32mTrue\u001b[0m\u001b[0;34m)\u001b[0m\u001b[0;34m\u001b[0m\u001b[0;34m\u001b[0m\u001b[0m\n\u001b[1;32m      4\u001b[0m \u001b[0msw3\u001b[0m \u001b[0;34m=\u001b[0m \u001b[0mpp\u001b[0m\u001b[0;34m.\u001b[0m\u001b[0mcreate_switch\u001b[0m\u001b[0;34m(\u001b[0m\u001b[0mnet\u001b[0m\u001b[0;34m,\u001b[0m \u001b[0mline1\u001b[0m\u001b[0;34m,\u001b[0m \u001b[0mbus2\u001b[0m\u001b[0;34m,\u001b[0m \u001b[0met\u001b[0m\u001b[0;34m=\u001b[0m\u001b[0;34m\"l\"\u001b[0m\u001b[0;34m,\u001b[0m \u001b[0mtype\u001b[0m\u001b[0;34m=\u001b[0m\u001b[0;34m\"CB\"\u001b[0m\u001b[0;34m,\u001b[0m \u001b[0mclosed\u001b[0m\u001b[0;34m=\u001b[0m\u001b[0;32mTrue\u001b[0m\u001b[0;34m)\u001b[0m\u001b[0;34m\u001b[0m\u001b[0;34m\u001b[0m\u001b[0m\n\u001b[1;32m      5\u001b[0m \u001b[0msw4\u001b[0m \u001b[0;34m=\u001b[0m \u001b[0mpp\u001b[0m\u001b[0;34m.\u001b[0m\u001b[0mcreate_switch\u001b[0m\u001b[0;34m(\u001b[0m\u001b[0mnet\u001b[0m\u001b[0;34m,\u001b[0m \u001b[0mbus2\u001b[0m\u001b[0;34m,\u001b[0m \u001b[0mtrafo1\u001b[0m\u001b[0;34m,\u001b[0m \u001b[0met\u001b[0m\u001b[0;34m=\u001b[0m\u001b[0;34m\"l\"\u001b[0m\u001b[0;34m,\u001b[0m \u001b[0mtype\u001b[0m\u001b[0;34m=\u001b[0m\u001b[0;34m\"CB\"\u001b[0m\u001b[0;34m,\u001b[0m \u001b[0mclosed\u001b[0m\u001b[0;34m=\u001b[0m\u001b[0;32mTrue\u001b[0m\u001b[0;34m)\u001b[0m\u001b[0;34m\u001b[0m\u001b[0;34m\u001b[0m\u001b[0m\n",
      "\u001b[0;31mNameError\u001b[0m: name 'G1' is not defined"
     ]
    }
   ],
   "source": [
    "# Switches\n",
    "sw1 = pp.create_switch(net, bus1, bus2, et=\"b\", type=\"CB\", closed=True)\n",
    "sw2 = pp.create_switch(net, bus2, line1, et=\"l\", type=\"CB\", closed=True)\n",
    "sw3 = pp.create_switch(net, line1, bus3, et=\"l\", type=\"CB\", closed=True)\n",
    "sw4 = pp.create_switch(net, bus4, bus5, et=\"l\", type=\"CB\", closed=True)\n",
    "sw5 = pp.create_switch(net, bus5, line2, et=\"l\", type=\"CB\", closed=True)\n",
    "sw6 = pp.create_switch(net, bus5, line3, et=\"l\", type=\"LBS\", closed=True)\n",
    "sw7 = pp.create_switch(net, line2, bus6, et=\"l\", type=\"LBS\", closed=True)\n",
    "sw8 = pp.create_switch(net, bus6, bus7, et=\"l\", type=\"LBS\", closed=True)\n",
    "sw9 = pp.create_switch(net, line4, bus6, et=\"b\", type=\"CB\", closed=True)\n",
    "sw10 = pp.create_switch(net, line4, bus10, et=\"l\", type=\"LBS\", closed=True)\n",
    "sw11 = pp.create_switch(net, bus10, bus8, et=\"l\", type=\"LBS\", closed=True)\n",
    "sw12 = pp.create_switch(net, line3, bus10, et=\"b\", type=\"CB\", closed=True)\n",
    "sw13 = pp.create_switch(net, bus10, bus9, et=\"b\", type=\"CB\", closed=True)"
   ]
  },
  {
   "cell_type": "code",
   "execution_count": 58,
   "metadata": {},
   "outputs": [
    {
     "output_type": "execute_result",
     "data": {
      "text/plain": [
       "0"
      ]
     },
     "metadata": {},
     "execution_count": 58
    }
   ],
   "source": [
    "# Load\n",
    "pp.create_load(net, bus5, p_mw=2, q_mvar=4, scaling=0.6, name=\"load\")"
   ]
  },
  {
   "cell_type": "code",
   "execution_count": 59,
   "metadata": {},
   "outputs": [
    {
     "output_type": "execute_result",
     "data": {
      "text/plain": [
       "1"
      ]
     },
     "metadata": {},
     "execution_count": 59
    }
   ],
   "source": [
    "# Static Generator\n",
    "# pp.create_sgen(net, bus7, p_mw=2, q_mvar=-0.5, name=\"static generator\")\n"
   ]
  },
  {
   "cell_type": "code",
   "execution_count": 61,
   "metadata": {},
   "outputs": [],
   "source": [
    "# Shunt\n",
    "# pp.create_shunt(net, bus3, q_mvar=-0.96, p_mw=0, name='Shunt')"
   ]
  },
  {
   "cell_type": "code",
   "execution_count": 62,
   "metadata": {},
   "outputs": [],
   "source": [
    "# Power Flow\n",
    "pp.runpp(net)"
   ]
  },
  {
   "cell_type": "code",
   "execution_count": 63,
   "metadata": {},
   "outputs": [],
   "source": [
    "# RESULTS"
   ]
  },
  {
   "cell_type": "code",
   "execution_count": 64,
   "metadata": {},
   "outputs": [
    {
     "output_type": "execute_result",
     "data": {
      "text/plain": [
       "      vm_pu  va_degree       p_mw    q_mvar\n",
       "0  1.020000   0.000000  10.723601  6.167159\n",
       "1  1.020909   0.061162   0.000000  0.000000\n",
       "2  1.020909   0.061162   0.000000  0.000000\n",
       "3  1.026158   2.874972   0.000000  0.000000\n",
       "4  1.026158   2.874972   0.000000  0.000000\n",
       "5  1.030000   3.039329  -6.000000 -0.492879\n",
       "6  1.030000   3.039329  -4.800000 -0.379612"
      ],
      "text/html": "<div>\n<style scoped>\n    .dataframe tbody tr th:only-of-type {\n        vertical-align: middle;\n    }\n\n    .dataframe tbody tr th {\n        vertical-align: top;\n    }\n\n    .dataframe thead th {\n        text-align: right;\n    }\n</style>\n<table border=\"1\" class=\"dataframe\">\n  <thead>\n    <tr style=\"text-align: right;\">\n      <th></th>\n      <th>vm_pu</th>\n      <th>va_degree</th>\n      <th>p_mw</th>\n      <th>q_mvar</th>\n    </tr>\n  </thead>\n  <tbody>\n    <tr>\n      <th>0</th>\n      <td>1.020000</td>\n      <td>0.000000</td>\n      <td>10.723601</td>\n      <td>6.167159</td>\n    </tr>\n    <tr>\n      <th>1</th>\n      <td>1.020909</td>\n      <td>0.061162</td>\n      <td>0.000000</td>\n      <td>0.000000</td>\n    </tr>\n    <tr>\n      <th>2</th>\n      <td>1.020909</td>\n      <td>0.061162</td>\n      <td>0.000000</td>\n      <td>0.000000</td>\n    </tr>\n    <tr>\n      <th>3</th>\n      <td>1.026158</td>\n      <td>2.874972</td>\n      <td>0.000000</td>\n      <td>0.000000</td>\n    </tr>\n    <tr>\n      <th>4</th>\n      <td>1.026158</td>\n      <td>2.874972</td>\n      <td>0.000000</td>\n      <td>0.000000</td>\n    </tr>\n    <tr>\n      <th>5</th>\n      <td>1.030000</td>\n      <td>3.039329</td>\n      <td>-6.000000</td>\n      <td>-0.492879</td>\n    </tr>\n    <tr>\n      <th>6</th>\n      <td>1.030000</td>\n      <td>3.039329</td>\n      <td>-4.800000</td>\n      <td>-0.379612</td>\n    </tr>\n  </tbody>\n</table>\n</div>"
     },
     "metadata": {},
     "execution_count": 64
    }
   ],
   "source": [
    "# Buses\n",
    "net.res_bus"
   ]
  },
  {
   "cell_type": "code",
   "execution_count": 65,
   "metadata": {},
   "outputs": [
    {
     "output_type": "execute_result",
     "data": {
      "text/plain": [
       "Empty DataFrame\n",
       "Columns: [p_mw, q_mvar]\n",
       "Index: []"
      ],
      "text/html": "<div>\n<style scoped>\n    .dataframe tbody tr th:only-of-type {\n        vertical-align: middle;\n    }\n\n    .dataframe tbody tr th {\n        vertical-align: top;\n    }\n\n    .dataframe thead th {\n        text-align: right;\n    }\n</style>\n<table border=\"1\" class=\"dataframe\">\n  <thead>\n    <tr style=\"text-align: right;\">\n      <th></th>\n      <th>p_mw</th>\n      <th>q_mvar</th>\n    </tr>\n  </thead>\n  <tbody>\n  </tbody>\n</table>\n</div>"
     },
     "metadata": {},
     "execution_count": 65
    }
   ],
   "source": [
    "# External grid\n",
    "net.res_ext_grid"
   ]
  },
  {
   "cell_type": "code",
   "execution_count": 66,
   "metadata": {},
   "outputs": [
    {
     "output_type": "execute_result",
     "data": {
      "text/plain": [
       "      p_from_mw  q_from_mvar       p_to_mw     q_to_mvar         pl_mw  \\\n",
       "0 -1.072360e+01    -6.167159  1.072961e+01  4.814381e-01  6.006061e-03   \n",
       "1 -5.979134e+00    -0.558911  6.000000e+00  4.973118e-01  2.086573e-02   \n",
       "2  2.406269e-08    -0.004433  2.845747e-14  1.616856e-14  2.406272e-08   \n",
       "3  4.800000e+00     0.379612 -4.783307e+00 -4.652308e-01  1.669259e-02   \n",
       "\n",
       "    ql_mvar  i_from_ka       i_to_ka      i_ka  vm_from_pu  va_from_degree  \\\n",
       "0 -5.685721   0.063655  5.521793e-02  0.063655    1.020000        0.000000   \n",
       "1 -0.061599   0.168936  1.687369e-01  0.168936    1.026158        2.874972   \n",
       "2 -0.004433   0.000124  9.173067e-16  0.000124    1.030000        3.039329   \n",
       "3 -0.085619   0.134948  1.351972e-01  0.135197    1.030000        3.039329   \n",
       "\n",
       "   vm_to_pu  va_to_degree  loading_percent  \n",
       "0  1.020909      0.061162        10.825718  \n",
       "1  1.030000      3.039329        40.127338  \n",
       "2  1.030007      3.038707         0.059160  \n",
       "3  1.026158      2.874972        32.113354  "
      ],
      "text/html": "<div>\n<style scoped>\n    .dataframe tbody tr th:only-of-type {\n        vertical-align: middle;\n    }\n\n    .dataframe tbody tr th {\n        vertical-align: top;\n    }\n\n    .dataframe thead th {\n        text-align: right;\n    }\n</style>\n<table border=\"1\" class=\"dataframe\">\n  <thead>\n    <tr style=\"text-align: right;\">\n      <th></th>\n      <th>p_from_mw</th>\n      <th>q_from_mvar</th>\n      <th>p_to_mw</th>\n      <th>q_to_mvar</th>\n      <th>pl_mw</th>\n      <th>ql_mvar</th>\n      <th>i_from_ka</th>\n      <th>i_to_ka</th>\n      <th>i_ka</th>\n      <th>vm_from_pu</th>\n      <th>va_from_degree</th>\n      <th>vm_to_pu</th>\n      <th>va_to_degree</th>\n      <th>loading_percent</th>\n    </tr>\n  </thead>\n  <tbody>\n    <tr>\n      <th>0</th>\n      <td>-1.072360e+01</td>\n      <td>-6.167159</td>\n      <td>1.072961e+01</td>\n      <td>4.814381e-01</td>\n      <td>6.006061e-03</td>\n      <td>-5.685721</td>\n      <td>0.063655</td>\n      <td>5.521793e-02</td>\n      <td>0.063655</td>\n      <td>1.020000</td>\n      <td>0.000000</td>\n      <td>1.020909</td>\n      <td>0.061162</td>\n      <td>10.825718</td>\n    </tr>\n    <tr>\n      <th>1</th>\n      <td>-5.979134e+00</td>\n      <td>-0.558911</td>\n      <td>6.000000e+00</td>\n      <td>4.973118e-01</td>\n      <td>2.086573e-02</td>\n      <td>-0.061599</td>\n      <td>0.168936</td>\n      <td>1.687369e-01</td>\n      <td>0.168936</td>\n      <td>1.026158</td>\n      <td>2.874972</td>\n      <td>1.030000</td>\n      <td>3.039329</td>\n      <td>40.127338</td>\n    </tr>\n    <tr>\n      <th>2</th>\n      <td>2.406269e-08</td>\n      <td>-0.004433</td>\n      <td>2.845747e-14</td>\n      <td>1.616856e-14</td>\n      <td>2.406272e-08</td>\n      <td>-0.004433</td>\n      <td>0.000124</td>\n      <td>9.173067e-16</td>\n      <td>0.000124</td>\n      <td>1.030000</td>\n      <td>3.039329</td>\n      <td>1.030007</td>\n      <td>3.038707</td>\n      <td>0.059160</td>\n    </tr>\n    <tr>\n      <th>3</th>\n      <td>4.800000e+00</td>\n      <td>0.379612</td>\n      <td>-4.783307e+00</td>\n      <td>-4.652308e-01</td>\n      <td>1.669259e-02</td>\n      <td>-0.085619</td>\n      <td>0.134948</td>\n      <td>1.351972e-01</td>\n      <td>0.135197</td>\n      <td>1.030000</td>\n      <td>3.039329</td>\n      <td>1.026158</td>\n      <td>2.874972</td>\n      <td>32.113354</td>\n    </tr>\n  </tbody>\n</table>\n</div>"
     },
     "metadata": {},
     "execution_count": 66
    }
   ],
   "source": [
    "# Line\n",
    "net.res_line"
   ]
  },
  {
   "cell_type": "code",
   "execution_count": 67,
   "metadata": {},
   "outputs": [
    {
     "output_type": "execute_result",
     "data": {
      "text/plain": [
       "     p_hv_mw  q_hv_mvar    p_lv_mw  q_lv_mvar     pl_mw   ql_mvar   i_hv_ka  \\\n",
       "0 -10.729607  -0.481438  10.762442   1.024142  0.032835  0.542704  0.055218   \n",
       "\n",
       "    i_lv_ka  vm_hv_pu  va_hv_degree  vm_lv_pu  va_lv_degree  loading_percent  \n",
       "0  0.304133  1.020909      0.061162  1.026158      2.874972        42.141875  "
      ],
      "text/html": "<div>\n<style scoped>\n    .dataframe tbody tr th:only-of-type {\n        vertical-align: middle;\n    }\n\n    .dataframe tbody tr th {\n        vertical-align: top;\n    }\n\n    .dataframe thead th {\n        text-align: right;\n    }\n</style>\n<table border=\"1\" class=\"dataframe\">\n  <thead>\n    <tr style=\"text-align: right;\">\n      <th></th>\n      <th>p_hv_mw</th>\n      <th>q_hv_mvar</th>\n      <th>p_lv_mw</th>\n      <th>q_lv_mvar</th>\n      <th>pl_mw</th>\n      <th>ql_mvar</th>\n      <th>i_hv_ka</th>\n      <th>i_lv_ka</th>\n      <th>vm_hv_pu</th>\n      <th>va_hv_degree</th>\n      <th>vm_lv_pu</th>\n      <th>va_lv_degree</th>\n      <th>loading_percent</th>\n    </tr>\n  </thead>\n  <tbody>\n    <tr>\n      <th>0</th>\n      <td>-10.729607</td>\n      <td>-0.481438</td>\n      <td>10.762442</td>\n      <td>1.024142</td>\n      <td>0.032835</td>\n      <td>0.542704</td>\n      <td>0.055218</td>\n      <td>0.304133</td>\n      <td>1.020909</td>\n      <td>0.061162</td>\n      <td>1.026158</td>\n      <td>2.874972</td>\n      <td>42.141875</td>\n    </tr>\n  </tbody>\n</table>\n</div>"
     },
     "metadata": {},
     "execution_count": 67
    }
   ],
   "source": [
    "# Trafos\n",
    "net.res_trafo"
   ]
  },
  {
   "cell_type": "code",
   "execution_count": 68,
   "metadata": {},
   "outputs": [
    {
     "output_type": "execute_result",
     "data": {
      "text/plain": [
       "   p_mw  q_mvar\n",
       "0   1.2     2.4"
      ],
      "text/html": "<div>\n<style scoped>\n    .dataframe tbody tr th:only-of-type {\n        vertical-align: middle;\n    }\n\n    .dataframe tbody tr th {\n        vertical-align: top;\n    }\n\n    .dataframe thead th {\n        text-align: right;\n    }\n</style>\n<table border=\"1\" class=\"dataframe\">\n  <thead>\n    <tr style=\"text-align: right;\">\n      <th></th>\n      <th>p_mw</th>\n      <th>q_mvar</th>\n    </tr>\n  </thead>\n  <tbody>\n    <tr>\n      <th>0</th>\n      <td>1.2</td>\n      <td>2.4</td>\n    </tr>\n  </tbody>\n</table>\n</div>"
     },
     "metadata": {},
     "execution_count": 68
    }
   ],
   "source": [
    "# Load\n",
    "net.res_load"
   ]
  },
  {
   "cell_type": "code",
   "execution_count": 69,
   "metadata": {},
   "outputs": [
    {
     "output_type": "execute_result",
     "data": {
      "text/plain": [
       "Empty DataFrame\n",
       "Columns: [p_mw, q_mvar]\n",
       "Index: []"
      ],
      "text/html": "<div>\n<style scoped>\n    .dataframe tbody tr th:only-of-type {\n        vertical-align: middle;\n    }\n\n    .dataframe tbody tr th {\n        vertical-align: top;\n    }\n\n    .dataframe thead th {\n        text-align: right;\n    }\n</style>\n<table border=\"1\" class=\"dataframe\">\n  <thead>\n    <tr style=\"text-align: right;\">\n      <th></th>\n      <th>p_mw</th>\n      <th>q_mvar</th>\n    </tr>\n  </thead>\n  <tbody>\n  </tbody>\n</table>\n</div>"
     },
     "metadata": {},
     "execution_count": 69
    }
   ],
   "source": [
    "# Static Generator\n",
    "net.res_sgen"
   ]
  },
  {
   "cell_type": "code",
   "execution_count": 70,
   "metadata": {},
   "outputs": [
    {
     "output_type": "execute_result",
     "data": {
      "text/plain": [
       "        p_mw    q_mvar  va_degree  vm_pu\n",
       "0 -10.723601 -6.167159   0.000000   1.02\n",
       "1   6.000000  2.779612   3.039329   1.03\n",
       "2   6.000000  0.492879   3.039329   1.03"
      ],
      "text/html": "<div>\n<style scoped>\n    .dataframe tbody tr th:only-of-type {\n        vertical-align: middle;\n    }\n\n    .dataframe tbody tr th {\n        vertical-align: top;\n    }\n\n    .dataframe thead th {\n        text-align: right;\n    }\n</style>\n<table border=\"1\" class=\"dataframe\">\n  <thead>\n    <tr style=\"text-align: right;\">\n      <th></th>\n      <th>p_mw</th>\n      <th>q_mvar</th>\n      <th>va_degree</th>\n      <th>vm_pu</th>\n    </tr>\n  </thead>\n  <tbody>\n    <tr>\n      <th>0</th>\n      <td>-10.723601</td>\n      <td>-6.167159</td>\n      <td>0.000000</td>\n      <td>1.02</td>\n    </tr>\n    <tr>\n      <th>1</th>\n      <td>6.000000</td>\n      <td>2.779612</td>\n      <td>3.039329</td>\n      <td>1.03</td>\n    </tr>\n    <tr>\n      <th>2</th>\n      <td>6.000000</td>\n      <td>0.492879</td>\n      <td>3.039329</td>\n      <td>1.03</td>\n    </tr>\n  </tbody>\n</table>\n</div>"
     },
     "metadata": {},
     "execution_count": 70
    }
   ],
   "source": [
    "#Generator\n",
    "net.res_gen"
   ]
  },
  {
   "cell_type": "code",
   "execution_count": 71,
   "metadata": {},
   "outputs": [
    {
     "output_type": "execute_result",
     "data": {
      "text/plain": [
       "Empty DataFrame\n",
       "Columns: [p_mw, q_mvar, vm_pu]\n",
       "Index: []"
      ],
      "text/html": "<div>\n<style scoped>\n    .dataframe tbody tr th:only-of-type {\n        vertical-align: middle;\n    }\n\n    .dataframe tbody tr th {\n        vertical-align: top;\n    }\n\n    .dataframe thead th {\n        text-align: right;\n    }\n</style>\n<table border=\"1\" class=\"dataframe\">\n  <thead>\n    <tr style=\"text-align: right;\">\n      <th></th>\n      <th>p_mw</th>\n      <th>q_mvar</th>\n      <th>vm_pu</th>\n    </tr>\n  </thead>\n  <tbody>\n  </tbody>\n</table>\n</div>"
     },
     "metadata": {},
     "execution_count": 71
    }
   ],
   "source": [
    "# Shunt\n",
    "net.res_shunt\n"
   ]
  },
  {
   "cell_type": "code",
   "execution_count": null,
   "metadata": {},
   "outputs": [],
   "source": []
  }
 ],
 "metadata": {
  "kernelspec": {
   "name": "python3710jvsc74a57bd00fe3b9c16bed78e348cdf544f198e863d256a0626302d171ddf17fdced27d98a",
   "display_name": "Python 3.7.10 64-bit ('pandapower': conda)"
  },
  "language_info": {
   "codemirror_mode": {
    "name": "ipython",
    "version": 3
   },
   "file_extension": ".py",
   "mimetype": "text/x-python",
   "name": "python",
   "nbconvert_exporter": "python",
   "pygments_lexer": "ipython3",
   "version": "3.7.10"
  },
  "metadata": {
   "interpreter": {
    "hash": "0fe3b9c16bed78e348cdf544f198e863d256a0626302d171ddf17fdced27d98a"
   }
  }
 },
 "nbformat": 4,
 "nbformat_minor": 4
}