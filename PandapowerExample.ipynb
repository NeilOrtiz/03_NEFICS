{
 "cells": [
  {
   "cell_type": "code",
   "execution_count": 9,
   "metadata": {},
   "outputs": [],
   "source": [
    "import pandapower as pp #import pandapower\n",
    "\n",
    "net = pp.create_empty_network() #create an empty network\n"
   ]
  },
  {
   "cell_type": "code",
   "execution_count": 10,
   "metadata": {},
   "outputs": [],
   "source": [
    "# Buses\n",
    "bus1 = pp.create_bus(net, name=\"HV Busbar\", vn_kv=110, type=\"b\")\n",
    "bus2 = pp.create_bus(net, name=\"HV Busbar 2\", vn_kv=110, type=\"b\")\n",
    "bus3 = pp.create_bus(net, name=\"HV Transformer Bus\", vn_kv=110, type=\"n\")\n",
    "bus4 = pp.create_bus(net, name=\"MV Transformer Bus\", vn_kv=20, type=\"n\")\n",
    "bus5 = pp.create_bus(net, name=\"MV Main Bus\", vn_kv=20, type=\"b\")\n",
    "bus6 = pp.create_bus(net, name=\"MV Bus 1\", vn_kv=20, type=\"b\")\n",
    "bus7 = pp.create_bus(net, name=\"MV Bus 2\", vn_kv=20, type=\"b\")\n"
   ]
  },
  {
   "cell_type": "code",
   "execution_count": 11,
   "metadata": {},
   "outputs": [
    {
     "output_type": "execute_result",
     "data": {
      "text/plain": [
       "0"
      ]
     },
     "metadata": {},
     "execution_count": 11
    }
   ],
   "source": [
    "# External Grid\n",
    "pp.create_ext_grid(net, bus1, vm_pu=1.02, va_degree=50) # Create an external grid connection"
   ]
  },
  {
   "cell_type": "code",
   "execution_count": 12,
   "metadata": {},
   "outputs": [],
   "source": [
    "# Transformer\n",
    "trafo1 = pp.create_transformer(net, bus3, bus4, name=\"110kV/20kV transformer\", std_type=\"25 MVA 110/20 kV\")"
   ]
  },
  {
   "cell_type": "code",
   "execution_count": 13,
   "metadata": {},
   "outputs": [],
   "source": [
    "# Lines\n",
    "line1 = pp.create_line(net, bus1, bus2, length_km=10, std_type=\"N2XS(FL)2Y 1x300 RM/35 64/110 kV\",  name=\"Line 1\")\n",
    "line2 = pp.create_line(net, bus5, bus6, length_km=2.0, std_type=\"NA2XS2Y 1x240 RM/25 12/20 kV\", name=\"Line 2\")\n",
    "line3 = pp.create_line(net, bus6, bus7, length_km=3.5, std_type=\"48-AL1/8-ST1A 20.0\", name=\"Line 3\")\n",
    "line4 = pp.create_line(net, bus7, bus5, length_km=2.5, std_type=\"NA2XS2Y 1x240 RM/25 12/20 kV\", name=\"Line 4\")\n"
   ]
  },
  {
   "cell_type": "code",
   "execution_count": 14,
   "metadata": {},
   "outputs": [],
   "source": [
    "# Switches\n",
    "sw1 = pp.create_switch(net, bus2, bus3, et=\"b\", type=\"CB\", closed=True)\n",
    "sw2 = pp.create_switch(net, bus4, bus5, et=\"b\", type=\"CB\", closed=True)\n",
    "sw3 = pp.create_switch(net, bus5, line2, et=\"l\", type=\"LBS\", closed=True)\n",
    "sw4 = pp.create_switch(net, bus6, line2, et=\"l\", type=\"LBS\", closed=True)\n",
    "sw5 = pp.create_switch(net, bus6, line3, et=\"l\", type=\"LBS\", closed=True)\n",
    "sw6 = pp.create_switch(net, bus7, line3, et=\"l\", type=\"LBS\", closed=False)\n",
    "sw7 = pp.create_switch(net, bus7, line4, et=\"l\", type=\"LBS\", closed=True)\n",
    "sw8 = pp.create_switch(net, bus5, line4, et=\"l\", type=\"LBS\", closed=True)"
   ]
  },
  {
   "cell_type": "code",
   "execution_count": 15,
   "metadata": {},
   "outputs": [
    {
     "output_type": "execute_result",
     "data": {
      "text/plain": [
       "0"
      ]
     },
     "metadata": {},
     "execution_count": 15
    }
   ],
   "source": [
    "# Load\n",
    "pp.create_load(net, bus7, p_mw=2, q_mvar=4, scaling=0.6, name=\"load\")"
   ]
  },
  {
   "cell_type": "code",
   "execution_count": 16,
   "metadata": {},
   "outputs": [
    {
     "output_type": "execute_result",
     "data": {
      "text/plain": [
       "0"
      ]
     },
     "metadata": {},
     "execution_count": 16
    }
   ],
   "source": [
    "# Static Generator\n",
    "pp.create_sgen(net, bus7, p_mw=2, q_mvar=-0.5, name=\"static generator\")"
   ]
  },
  {
   "cell_type": "code",
   "execution_count": 17,
   "metadata": {},
   "outputs": [
    {
     "output_type": "execute_result",
     "data": {
      "text/plain": [
       "0"
      ]
     },
     "metadata": {},
     "execution_count": 17
    }
   ],
   "source": [
    "# Voltage controlled Generator\n",
    "pp.create_gen(net, bus6, p_mw=6, max_q_mvar=3, min_q_mvar=-3, vm_pu=1.03, name=\"generator\") \n"
   ]
  },
  {
   "cell_type": "code",
   "execution_count": 18,
   "metadata": {},
   "outputs": [
    {
     "output_type": "execute_result",
     "data": {
      "text/plain": [
       "0"
      ]
     },
     "metadata": {},
     "execution_count": 18
    }
   ],
   "source": [
    "# Shunt\n",
    "pp.create_shunt(net, bus3, q_mvar=-0.96, p_mw=0, name='Shunt')"
   ]
  },
  {
   "cell_type": "code",
   "execution_count": 19,
   "metadata": {},
   "outputs": [],
   "source": [
    "# Power Flow\n",
    "pp.runpp(net)"
   ]
  },
  {
   "cell_type": "code",
   "execution_count": 20,
   "metadata": {},
   "outputs": [],
   "source": [
    "# RESULTS"
   ]
  },
  {
   "cell_type": "code",
   "execution_count": 21,
   "metadata": {},
   "outputs": [
    {
     "output_type": "execute_result",
     "data": {
      "text/plain": [
       "      vm_pu  va_degree      p_mw    q_mvar\n",
       "0  1.020000   0.000000  6.741115  7.146883\n",
       "1  1.020830   0.032414  0.000000  0.000000\n",
       "2  1.020830   0.032414  0.000000 -1.000409\n",
       "3  1.024562   1.802848  0.000000  0.000000\n",
       "4  1.024562   1.802848  0.000000  0.000000\n",
       "5  1.030000   1.870455 -6.000000 -3.421910\n",
       "6  1.023205   1.952224 -0.800000  2.900000"
      ],
      "text/html": "<div>\n<style scoped>\n    .dataframe tbody tr th:only-of-type {\n        vertical-align: middle;\n    }\n\n    .dataframe tbody tr th {\n        vertical-align: top;\n    }\n\n    .dataframe thead th {\n        text-align: right;\n    }\n</style>\n<table border=\"1\" class=\"dataframe\">\n  <thead>\n    <tr style=\"text-align: right;\">\n      <th></th>\n      <th>vm_pu</th>\n      <th>va_degree</th>\n      <th>p_mw</th>\n      <th>q_mvar</th>\n    </tr>\n  </thead>\n  <tbody>\n    <tr>\n      <th>0</th>\n      <td>1.020000</td>\n      <td>0.000000</td>\n      <td>6.741115</td>\n      <td>7.146883</td>\n    </tr>\n    <tr>\n      <th>1</th>\n      <td>1.020830</td>\n      <td>0.032414</td>\n      <td>0.000000</td>\n      <td>0.000000</td>\n    </tr>\n    <tr>\n      <th>2</th>\n      <td>1.020830</td>\n      <td>0.032414</td>\n      <td>0.000000</td>\n      <td>-1.000409</td>\n    </tr>\n    <tr>\n      <th>3</th>\n      <td>1.024562</td>\n      <td>1.802848</td>\n      <td>0.000000</td>\n      <td>0.000000</td>\n    </tr>\n    <tr>\n      <th>4</th>\n      <td>1.024562</td>\n      <td>1.802848</td>\n      <td>0.000000</td>\n      <td>0.000000</td>\n    </tr>\n    <tr>\n      <th>5</th>\n      <td>1.030000</td>\n      <td>1.870455</td>\n      <td>-6.000000</td>\n      <td>-3.421910</td>\n    </tr>\n    <tr>\n      <th>6</th>\n      <td>1.023205</td>\n      <td>1.952224</td>\n      <td>-0.800000</td>\n      <td>2.900000</td>\n    </tr>\n  </tbody>\n</table>\n</div>"
     },
     "metadata": {},
     "execution_count": 21
    }
   ],
   "source": [
    "# Buses\n",
    "net.res_bus"
   ]
  },
  {
   "cell_type": "code",
   "execution_count": 22,
   "metadata": {},
   "outputs": [
    {
     "output_type": "execute_result",
     "data": {
      "text/plain": [
       "       p_mw    q_mvar\n",
       "0 -6.741115 -7.146883"
      ],
      "text/html": "<div>\n<style scoped>\n    .dataframe tbody tr th:only-of-type {\n        vertical-align: middle;\n    }\n\n    .dataframe tbody tr th {\n        vertical-align: top;\n    }\n\n    .dataframe thead th {\n        text-align: right;\n    }\n</style>\n<table border=\"1\" class=\"dataframe\">\n  <thead>\n    <tr style=\"text-align: right;\">\n      <th></th>\n      <th>p_mw</th>\n      <th>q_mvar</th>\n    </tr>\n  </thead>\n  <tbody>\n    <tr>\n      <th>0</th>\n      <td>-6.741115</td>\n      <td>-7.146883</td>\n    </tr>\n  </tbody>\n</table>\n</div>"
     },
     "metadata": {},
     "execution_count": 22
    }
   ],
   "source": [
    "# External grid\n",
    "net.res_ext_grid"
   ]
  },
  {
   "cell_type": "code",
   "execution_count": 23,
   "metadata": {},
   "outputs": [
    {
     "output_type": "execute_result",
     "data": {
      "text/plain": [
       "      p_from_mw  q_from_mvar       p_to_mw     q_to_mvar         pl_mw  \\\n",
       "0 -6.741115e+00    -7.146883  6.744162e+00  1.454505e+00  3.046845e-03   \n",
       "1 -5.972390e+00    -3.481625  6.000000e+00  3.426342e+00  2.761024e-02   \n",
       "2  2.406269e-08    -0.004433  5.899554e-14 -1.271909e-14  2.406275e-08   \n",
       "3  8.000000e-01    -2.900000 -7.936182e-01  2.805738e+00  6.381811e-03   \n",
       "\n",
       "    ql_mvar  i_from_ka       i_to_ka      i_ka  vm_from_pu  va_from_degree  \\\n",
       "0 -5.692378   0.050554  3.547266e-02  0.050554    1.020000        0.000000   \n",
       "1 -0.055283   0.194780  1.936478e-01  0.194780    1.024562        1.802848   \n",
       "2 -0.004433   0.000124  1.691430e-15  0.000124    1.030000        1.870455   \n",
       "3 -0.094262   0.084873  8.215450e-02  0.084873    1.023205        1.952224   \n",
       "\n",
       "   vm_to_pu  va_to_degree  loading_percent  \n",
       "0  1.020830      0.032414         8.597638  \n",
       "1  1.030000      1.870455        46.266070  \n",
       "2  1.030007      1.869833         0.059160  \n",
       "3  1.024562      1.802848        20.159919  "
      ],
      "text/html": "<div>\n<style scoped>\n    .dataframe tbody tr th:only-of-type {\n        vertical-align: middle;\n    }\n\n    .dataframe tbody tr th {\n        vertical-align: top;\n    }\n\n    .dataframe thead th {\n        text-align: right;\n    }\n</style>\n<table border=\"1\" class=\"dataframe\">\n  <thead>\n    <tr style=\"text-align: right;\">\n      <th></th>\n      <th>p_from_mw</th>\n      <th>q_from_mvar</th>\n      <th>p_to_mw</th>\n      <th>q_to_mvar</th>\n      <th>pl_mw</th>\n      <th>ql_mvar</th>\n      <th>i_from_ka</th>\n      <th>i_to_ka</th>\n      <th>i_ka</th>\n      <th>vm_from_pu</th>\n      <th>va_from_degree</th>\n      <th>vm_to_pu</th>\n      <th>va_to_degree</th>\n      <th>loading_percent</th>\n    </tr>\n  </thead>\n  <tbody>\n    <tr>\n      <th>0</th>\n      <td>-6.741115e+00</td>\n      <td>-7.146883</td>\n      <td>6.744162e+00</td>\n      <td>1.454505e+00</td>\n      <td>3.046845e-03</td>\n      <td>-5.692378</td>\n      <td>0.050554</td>\n      <td>3.547266e-02</td>\n      <td>0.050554</td>\n      <td>1.020000</td>\n      <td>0.000000</td>\n      <td>1.020830</td>\n      <td>0.032414</td>\n      <td>8.597638</td>\n    </tr>\n    <tr>\n      <th>1</th>\n      <td>-5.972390e+00</td>\n      <td>-3.481625</td>\n      <td>6.000000e+00</td>\n      <td>3.426342e+00</td>\n      <td>2.761024e-02</td>\n      <td>-0.055283</td>\n      <td>0.194780</td>\n      <td>1.936478e-01</td>\n      <td>0.194780</td>\n      <td>1.024562</td>\n      <td>1.802848</td>\n      <td>1.030000</td>\n      <td>1.870455</td>\n      <td>46.266070</td>\n    </tr>\n    <tr>\n      <th>2</th>\n      <td>2.406269e-08</td>\n      <td>-0.004433</td>\n      <td>5.899554e-14</td>\n      <td>-1.271909e-14</td>\n      <td>2.406275e-08</td>\n      <td>-0.004433</td>\n      <td>0.000124</td>\n      <td>1.691430e-15</td>\n      <td>0.000124</td>\n      <td>1.030000</td>\n      <td>1.870455</td>\n      <td>1.030007</td>\n      <td>1.869833</td>\n      <td>0.059160</td>\n    </tr>\n    <tr>\n      <th>3</th>\n      <td>8.000000e-01</td>\n      <td>-2.900000</td>\n      <td>-7.936182e-01</td>\n      <td>2.805738e+00</td>\n      <td>6.381811e-03</td>\n      <td>-0.094262</td>\n      <td>0.084873</td>\n      <td>8.215450e-02</td>\n      <td>0.084873</td>\n      <td>1.023205</td>\n      <td>1.952224</td>\n      <td>1.024562</td>\n      <td>1.802848</td>\n      <td>20.159919</td>\n    </tr>\n  </tbody>\n</table>\n</div>"
     },
     "metadata": {},
     "execution_count": 23
    }
   ],
   "source": [
    "# Line\n",
    "net.res_line"
   ]
  },
  {
   "cell_type": "code",
   "execution_count": 24,
   "metadata": {},
   "outputs": [
    {
     "output_type": "execute_result",
     "data": {
      "text/plain": [
       "    p_hv_mw  q_hv_mvar   p_lv_mw  q_lv_mvar     pl_mw   ql_mvar   i_hv_ka  \\\n",
       "0 -6.744162  -0.454096  6.766008   0.675887  0.021846  0.221791  0.034754   \n",
       "\n",
       "    i_lv_ka  vm_hv_pu  va_hv_degree  vm_lv_pu  va_lv_degree  loading_percent  \n",
       "0  0.191584   1.02083      0.032414  1.024562      1.802848        26.546681  "
      ],
      "text/html": "<div>\n<style scoped>\n    .dataframe tbody tr th:only-of-type {\n        vertical-align: middle;\n    }\n\n    .dataframe tbody tr th {\n        vertical-align: top;\n    }\n\n    .dataframe thead th {\n        text-align: right;\n    }\n</style>\n<table border=\"1\" class=\"dataframe\">\n  <thead>\n    <tr style=\"text-align: right;\">\n      <th></th>\n      <th>p_hv_mw</th>\n      <th>q_hv_mvar</th>\n      <th>p_lv_mw</th>\n      <th>q_lv_mvar</th>\n      <th>pl_mw</th>\n      <th>ql_mvar</th>\n      <th>i_hv_ka</th>\n      <th>i_lv_ka</th>\n      <th>vm_hv_pu</th>\n      <th>va_hv_degree</th>\n      <th>vm_lv_pu</th>\n      <th>va_lv_degree</th>\n      <th>loading_percent</th>\n    </tr>\n  </thead>\n  <tbody>\n    <tr>\n      <th>0</th>\n      <td>-6.744162</td>\n      <td>-0.454096</td>\n      <td>6.766008</td>\n      <td>0.675887</td>\n      <td>0.021846</td>\n      <td>0.221791</td>\n      <td>0.034754</td>\n      <td>0.191584</td>\n      <td>1.02083</td>\n      <td>0.032414</td>\n      <td>1.024562</td>\n      <td>1.802848</td>\n      <td>26.546681</td>\n    </tr>\n  </tbody>\n</table>\n</div>"
     },
     "metadata": {},
     "execution_count": 24
    }
   ],
   "source": [
    "# Trafos\n",
    "net.res_trafo"
   ]
  },
  {
   "cell_type": "code",
   "execution_count": 25,
   "metadata": {},
   "outputs": [
    {
     "output_type": "execute_result",
     "data": {
      "text/plain": [
       "   p_mw  q_mvar\n",
       "0   1.2     2.4"
      ],
      "text/html": "<div>\n<style scoped>\n    .dataframe tbody tr th:only-of-type {\n        vertical-align: middle;\n    }\n\n    .dataframe tbody tr th {\n        vertical-align: top;\n    }\n\n    .dataframe thead th {\n        text-align: right;\n    }\n</style>\n<table border=\"1\" class=\"dataframe\">\n  <thead>\n    <tr style=\"text-align: right;\">\n      <th></th>\n      <th>p_mw</th>\n      <th>q_mvar</th>\n    </tr>\n  </thead>\n  <tbody>\n    <tr>\n      <th>0</th>\n      <td>1.2</td>\n      <td>2.4</td>\n    </tr>\n  </tbody>\n</table>\n</div>"
     },
     "metadata": {},
     "execution_count": 25
    }
   ],
   "source": [
    "# Load\n",
    "net.res_load"
   ]
  },
  {
   "cell_type": "code",
   "execution_count": 26,
   "metadata": {},
   "outputs": [
    {
     "output_type": "execute_result",
     "data": {
      "text/plain": [
       "   p_mw  q_mvar\n",
       "0   2.0    -0.5"
      ],
      "text/html": "<div>\n<style scoped>\n    .dataframe tbody tr th:only-of-type {\n        vertical-align: middle;\n    }\n\n    .dataframe tbody tr th {\n        vertical-align: top;\n    }\n\n    .dataframe thead th {\n        text-align: right;\n    }\n</style>\n<table border=\"1\" class=\"dataframe\">\n  <thead>\n    <tr style=\"text-align: right;\">\n      <th></th>\n      <th>p_mw</th>\n      <th>q_mvar</th>\n    </tr>\n  </thead>\n  <tbody>\n    <tr>\n      <th>0</th>\n      <td>2.0</td>\n      <td>-0.5</td>\n    </tr>\n  </tbody>\n</table>\n</div>"
     },
     "metadata": {},
     "execution_count": 26
    }
   ],
   "source": [
    "# Static Generator\n",
    "net.res_sgen"
   ]
  },
  {
   "cell_type": "code",
   "execution_count": 27,
   "metadata": {},
   "outputs": [
    {
     "output_type": "execute_result",
     "data": {
      "text/plain": [
       "   p_mw   q_mvar  va_degree  vm_pu\n",
       "0   6.0  3.42191   1.870455   1.03"
      ],
      "text/html": "<div>\n<style scoped>\n    .dataframe tbody tr th:only-of-type {\n        vertical-align: middle;\n    }\n\n    .dataframe tbody tr th {\n        vertical-align: top;\n    }\n\n    .dataframe thead th {\n        text-align: right;\n    }\n</style>\n<table border=\"1\" class=\"dataframe\">\n  <thead>\n    <tr style=\"text-align: right;\">\n      <th></th>\n      <th>p_mw</th>\n      <th>q_mvar</th>\n      <th>va_degree</th>\n      <th>vm_pu</th>\n    </tr>\n  </thead>\n  <tbody>\n    <tr>\n      <th>0</th>\n      <td>6.0</td>\n      <td>3.42191</td>\n      <td>1.870455</td>\n      <td>1.03</td>\n    </tr>\n  </tbody>\n</table>\n</div>"
     },
     "metadata": {},
     "execution_count": 27
    }
   ],
   "source": [
    "#Generator\n",
    "net.res_gen"
   ]
  },
  {
   "cell_type": "code",
   "execution_count": 28,
   "metadata": {},
   "outputs": [
    {
     "output_type": "execute_result",
     "data": {
      "text/plain": [
       "   p_mw    q_mvar    vm_pu\n",
       "0   0.0 -1.000409  1.02083"
      ],
      "text/html": "<div>\n<style scoped>\n    .dataframe tbody tr th:only-of-type {\n        vertical-align: middle;\n    }\n\n    .dataframe tbody tr th {\n        vertical-align: top;\n    }\n\n    .dataframe thead th {\n        text-align: right;\n    }\n</style>\n<table border=\"1\" class=\"dataframe\">\n  <thead>\n    <tr style=\"text-align: right;\">\n      <th></th>\n      <th>p_mw</th>\n      <th>q_mvar</th>\n      <th>vm_pu</th>\n    </tr>\n  </thead>\n  <tbody>\n    <tr>\n      <th>0</th>\n      <td>0.0</td>\n      <td>-1.000409</td>\n      <td>1.02083</td>\n    </tr>\n  </tbody>\n</table>\n</div>"
     },
     "metadata": {},
     "execution_count": 28
    }
   ],
   "source": [
    "# Shunt\n",
    "net.res_shunt\n"
   ]
  },
  {
   "cell_type": "code",
   "execution_count": null,
   "metadata": {},
   "outputs": [],
   "source": []
  }
 ],
 "metadata": {
  "kernelspec": {
   "name": "python3710jvsc74a57bd00fe3b9c16bed78e348cdf544f198e863d256a0626302d171ddf17fdced27d98a",
   "display_name": "Python 3.7.10 64-bit ('pandapower': conda)"
  },
  "language_info": {
   "codemirror_mode": {
    "name": "ipython",
    "version": 3
   },
   "file_extension": ".py",
   "mimetype": "text/x-python",
   "name": "python",
   "nbconvert_exporter": "python",
   "pygments_lexer": "ipython3",
   "version": "3.7.10"
  },
  "metadata": {
   "interpreter": {
    "hash": "0fe3b9c16bed78e348cdf544f198e863d256a0626302d171ddf17fdced27d98a"
   }
  }
 },
 "nbformat": 4,
 "nbformat_minor": 4
}